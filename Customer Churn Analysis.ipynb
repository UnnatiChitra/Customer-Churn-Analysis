{
 "cells": [
  {
   "cell_type": "markdown",
   "id": "ffa1dcb6-9050-4b30-aa7e-6e9cbebbb40c",
   "metadata": {},
   "source": [
    "# Exploratory Data Analysis"
   ]
  },
  {
   "cell_type": "code",
   "execution_count": 212,
   "id": "4336dcd0-b76c-4285-b27d-881f76938e1d",
   "metadata": {},
   "outputs": [],
   "source": [
    "import pandas as pd\n",
    "import numpy as np\n",
    "import matplotlib.pyplot as plt\n",
    "import seaborn as sns"
   ]
  },
  {
   "cell_type": "code",
   "execution_count": 213,
   "id": "3bd5c0a2-e811-4921-ba43-60ce92166165",
   "metadata": {},
   "outputs": [],
   "source": [
    "df = pd.read_csv('customer_data.csv')"
   ]
  },
  {
   "cell_type": "code",
   "execution_count": 214,
   "id": "3aef8b22-d125-4bc4-850f-b81bfa04ab2a",
   "metadata": {},
   "outputs": [
    {
     "name": "stdout",
     "output_type": "stream",
     "text": [
      "<class 'pandas.core.frame.DataFrame'>\n",
      "RangeIndex: 200 entries, 0 to 199\n",
      "Data columns (total 11 columns):\n",
      " #   Column          Non-Null Count  Dtype  \n",
      "---  ------          --------------  -----  \n",
      " 0   CustomerID      200 non-null    object \n",
      " 1   Gender          200 non-null    object \n",
      " 2   Age             200 non-null    int64  \n",
      " 3   Tenure          200 non-null    int64  \n",
      " 4   MonthlyCharges  200 non-null    float64\n",
      " 5   TotalCharges    200 non-null    float64\n",
      " 6   PaymentMethod   200 non-null    object \n",
      " 7   Churn           200 non-null    object \n",
      " 8   ServiceUsage1   200 non-null    int64  \n",
      " 9   ServiceUsage2   200 non-null    int64  \n",
      " 10  ServiceUsage3   200 non-null    int64  \n",
      "dtypes: float64(2), int64(5), object(4)\n",
      "memory usage: 17.3+ KB\n"
     ]
    }
   ],
   "source": [
    "df.info()"
   ]
  },
  {
   "cell_type": "code",
   "execution_count": 215,
   "id": "c3610d37-56fa-4630-8fa3-1233404a24d0",
   "metadata": {},
   "outputs": [
    {
     "name": "stdout",
     "output_type": "stream",
     "text": [
      "CustomerID        0\n",
      "Gender            0\n",
      "Age               0\n",
      "Tenure            0\n",
      "MonthlyCharges    0\n",
      "TotalCharges      0\n",
      "PaymentMethod     0\n",
      "Churn             0\n",
      "ServiceUsage1     0\n",
      "ServiceUsage2     0\n",
      "ServiceUsage3     0\n",
      "dtype: int64\n"
     ]
    }
   ],
   "source": [
    "#Checking for missing values\n",
    "print(df.isnull().sum()) "
   ]
  },
  {
   "cell_type": "markdown",
   "id": "d5e8be21-4def-44ee-a50c-e36afcbfbfcd",
   "metadata": {},
   "source": [
    "##### The output shows that there is no missing data in the dataset"
   ]
  },
  {
   "cell_type": "code",
   "execution_count": 216,
   "id": "c0237bf4-8bda-493e-9acc-6cab724ad63a",
   "metadata": {},
   "outputs": [
    {
     "data": {
      "text/html": [
       "<div>\n",
       "<style scoped>\n",
       "    .dataframe tbody tr th:only-of-type {\n",
       "        vertical-align: middle;\n",
       "    }\n",
       "\n",
       "    .dataframe tbody tr th {\n",
       "        vertical-align: top;\n",
       "    }\n",
       "\n",
       "    .dataframe thead th {\n",
       "        text-align: right;\n",
       "    }\n",
       "</style>\n",
       "<table border=\"1\" class=\"dataframe\">\n",
       "  <thead>\n",
       "    <tr style=\"text-align: right;\">\n",
       "      <th></th>\n",
       "      <th>Age</th>\n",
       "      <th>Tenure</th>\n",
       "      <th>MonthlyCharges</th>\n",
       "      <th>TotalCharges</th>\n",
       "      <th>ServiceUsage1</th>\n",
       "      <th>ServiceUsage2</th>\n",
       "      <th>ServiceUsage3</th>\n",
       "    </tr>\n",
       "  </thead>\n",
       "  <tbody>\n",
       "    <tr>\n",
       "      <th>count</th>\n",
       "      <td>200.00000</td>\n",
       "      <td>200.000000</td>\n",
       "      <td>200.00000</td>\n",
       "      <td>200.000000</td>\n",
       "      <td>200.000000</td>\n",
       "      <td>200.000000</td>\n",
       "      <td>200.000000</td>\n",
       "    </tr>\n",
       "    <tr>\n",
       "      <th>mean</th>\n",
       "      <td>42.41000</td>\n",
       "      <td>35.945000</td>\n",
       "      <td>82.97515</td>\n",
       "      <td>5040.986650</td>\n",
       "      <td>50.300000</td>\n",
       "      <td>24.695000</td>\n",
       "      <td>107.100000</td>\n",
       "    </tr>\n",
       "    <tr>\n",
       "      <th>std</th>\n",
       "      <td>15.12899</td>\n",
       "      <td>20.311939</td>\n",
       "      <td>37.92233</td>\n",
       "      <td>2802.423841</td>\n",
       "      <td>28.710476</td>\n",
       "      <td>14.474791</td>\n",
       "      <td>58.037416</td>\n",
       "    </tr>\n",
       "    <tr>\n",
       "      <th>min</th>\n",
       "      <td>18.00000</td>\n",
       "      <td>1.000000</td>\n",
       "      <td>20.16000</td>\n",
       "      <td>118.080000</td>\n",
       "      <td>0.000000</td>\n",
       "      <td>0.000000</td>\n",
       "      <td>2.000000</td>\n",
       "    </tr>\n",
       "    <tr>\n",
       "      <th>25%</th>\n",
       "      <td>29.00000</td>\n",
       "      <td>20.750000</td>\n",
       "      <td>48.72750</td>\n",
       "      <td>2454.822500</td>\n",
       "      <td>25.000000</td>\n",
       "      <td>13.000000</td>\n",
       "      <td>54.750000</td>\n",
       "    </tr>\n",
       "    <tr>\n",
       "      <th>50%</th>\n",
       "      <td>42.00000</td>\n",
       "      <td>37.500000</td>\n",
       "      <td>83.59500</td>\n",
       "      <td>4931.905000</td>\n",
       "      <td>51.500000</td>\n",
       "      <td>25.000000</td>\n",
       "      <td>106.500000</td>\n",
       "    </tr>\n",
       "    <tr>\n",
       "      <th>75%</th>\n",
       "      <td>55.00000</td>\n",
       "      <td>53.000000</td>\n",
       "      <td>115.75500</td>\n",
       "      <td>7618.195000</td>\n",
       "      <td>76.000000</td>\n",
       "      <td>37.000000</td>\n",
       "      <td>159.250000</td>\n",
       "    </tr>\n",
       "    <tr>\n",
       "      <th>max</th>\n",
       "      <td>69.00000</td>\n",
       "      <td>70.000000</td>\n",
       "      <td>149.44000</td>\n",
       "      <td>9984.360000</td>\n",
       "      <td>99.000000</td>\n",
       "      <td>49.000000</td>\n",
       "      <td>198.000000</td>\n",
       "    </tr>\n",
       "  </tbody>\n",
       "</table>\n",
       "</div>"
      ],
      "text/plain": [
       "             Age      Tenure  MonthlyCharges  TotalCharges  ServiceUsage1  \\\n",
       "count  200.00000  200.000000       200.00000    200.000000     200.000000   \n",
       "mean    42.41000   35.945000        82.97515   5040.986650      50.300000   \n",
       "std     15.12899   20.311939        37.92233   2802.423841      28.710476   \n",
       "min     18.00000    1.000000        20.16000    118.080000       0.000000   \n",
       "25%     29.00000   20.750000        48.72750   2454.822500      25.000000   \n",
       "50%     42.00000   37.500000        83.59500   4931.905000      51.500000   \n",
       "75%     55.00000   53.000000       115.75500   7618.195000      76.000000   \n",
       "max     69.00000   70.000000       149.44000   9984.360000      99.000000   \n",
       "\n",
       "       ServiceUsage2  ServiceUsage3  \n",
       "count     200.000000     200.000000  \n",
       "mean       24.695000     107.100000  \n",
       "std        14.474791      58.037416  \n",
       "min         0.000000       2.000000  \n",
       "25%        13.000000      54.750000  \n",
       "50%        25.000000     106.500000  \n",
       "75%        37.000000     159.250000  \n",
       "max        49.000000     198.000000  "
      ]
     },
     "execution_count": 216,
     "metadata": {},
     "output_type": "execute_result"
    }
   ],
   "source": [
    "df.describe()"
   ]
  },
  {
   "cell_type": "code",
   "execution_count": 217,
   "id": "f01ec405-03af-45c3-b14d-754f7260ccc3",
   "metadata": {},
   "outputs": [
    {
     "name": "stdout",
     "output_type": "stream",
     "text": [
      "lower bound: -102.0\n",
      "upper bound: 316.0\n"
     ]
    }
   ],
   "source": [
    "Q1 = df['ServiceUsage3'].quantile(0.25)\n",
    "Q3 = df['ServiceUsage3'].quantile(0.75)\n",
    "IQR = Q3 - Q1\n",
    "\n",
    "lower_bound = Q1 - 1.5 * IQR\n",
    "upper_bound = Q3 + 1.5 * IQR\n",
    "\n",
    "outliers = df[(df['ServiceUsage3'] < lower_bound) | (df['ServiceUsage3'] > upper_bound)]\n",
    "print(\"lower bound:\",lower_bound)\n",
    "print(\"upper bound:\",upper_bound)\n"
   ]
  },
  {
   "cell_type": "markdown",
   "id": "cf35e30c-b055-4053-a725-ea732a219e9d",
   "metadata": {},
   "source": [
    "#### There are no outliers in ServiceUsage3. Similarly, there are no outliers in the entire dataset."
   ]
  },
  {
   "cell_type": "code",
   "execution_count": 218,
   "id": "34622124-0832-40fc-bda0-6491f70629c0",
   "metadata": {},
   "outputs": [
    {
     "data": {
      "image/png": "[encoded data removed]",
      "text/plain": [
       "<Figure size 640x480 with 1 Axes>"
      ]
     },
     "metadata": {},
     "output_type": "display_data"
    }
   ],
   "source": [
    "# Univarient Analysis\n",
    "sns.countplot(x='Churn', data=df)\n",
    "plt.title('Churn Distribution')\n",
    "plt.show()"
   ]
  },
  {
   "cell_type": "markdown",
   "id": "e8fea947-c0a4-40d7-90c4-ab1c0533c279",
   "metadata": {},
   "source": [
    "##### The churn distribution shows 40 \"Yes\" and 160 \"No\" indicates that in the dataset, only a small proportion of customers have canceled their subscription, while the majority are still active."
   ]
  },
  {
   "cell_type": "code",
   "execution_count": 219,
   "id": "53c44aa8-a48f-4dd3-872f-406464cd6a70",
   "metadata": {},
   "outputs": [
    {
     "data": {
      "image/png": "[encoded data removed]",
      "text/plain": [
       "<Figure size 1200x600 with 4 Axes>"
      ]
     },
     "metadata": {},
     "output_type": "display_data"
    }
   ],
   "source": [
    "# Ploting histograms for numerical variables\n",
    "df[['Tenure', 'MonthlyCharges', 'TotalCharges']].hist(bins=30, figsize=(12, 6))\n",
    "plt.tight_layout()\n",
    "plt.show()"
   ]
  },
  {
   "cell_type": "markdown",
   "id": "6dc40d0c-afce-4eb8-99d1-7e5c30e22a2a",
   "metadata": {},
   "source": [
    "##### 1. Tenure: The histogram shows customer tenure distribution, with high churn in early months and notable spikes around 50-60 months, indicating potential retention milestones."
   ]
  },
  {
   "cell_type": "markdown",
   "id": "2d77a0ec-2610-40de-9024-3fc4ebde45c2",
   "metadata": {},
   "source": [
    "##### 2. MonthlyCharges: The histogram shows a multi-modal distribution of monthly charges, with peaks around $60, $90, and $120, indicating popular pricing tiers. Customers are distributed across low and high charge ranges, suggesting distinct service preferences."
   ]
  },
  {
   "cell_type": "markdown",
   "id": "f165d3a5-7571-4c18-bc8d-c72b9c0c097c",
   "metadata": {},
   "source": [
    "##### 3. Total Charge: The histogram of Total Charges shows a varied distribution, with peaks around $2000 and $8000, indicating customer clusters with moderate and high cumulative spending. Higher total charges suggest long-term customers."
   ]
  },
  {
   "cell_type": "code",
   "execution_count": 220,
   "id": "d640b9e2-e068-4f9c-9803-f5d53e75b335",
   "metadata": {},
   "outputs": [
    {
     "data": {
      "image/png": "[encoded data removed]",
      "text/plain": [
       "<Figure size 640x480 with 1 Axes>"
      ]
     },
     "metadata": {},
     "output_type": "display_data"
    }
   ],
   "source": [
    "# Tenure vs Churn\n",
    "sns.boxplot(x='Churn', y='Tenure', data=df)\n",
    "plt.title('Tenure vs Churn')\n",
    "plt.show()"
   ]
  },
  {
   "cell_type": "markdown",
   "id": "70330975-709f-42d0-83d9-06c0e021d0ed",
   "metadata": {},
   "source": [
    "#### The boxplot shows that customers who churn tend to have shorter tenures compared to those who stay. The median tenure for non-churned customers is higher, indicating longer retention among loyal customers."
   ]
  },
  {
   "cell_type": "code",
   "execution_count": 221,
   "id": "0f5ae9e1-20c2-4fd8-9e41-b998800cddb1",
   "metadata": {},
   "outputs": [
    {
     "data": {
      "application/vnd.plotly.v1+json": {
       "config": {
        "plotlyServerURL": "https://plot.ly"
       },
       "data": [
        {
         "alignmentgroup": "True",
         "boxpoints": "all",
         "hovertemplate": "Tenure_Bins=%{x}<br>MonthlyCharges=%{y}<extra></extra>",
         "legendgroup": "",
         "marker": {
          "color": "#636efa"
         },
         "name": "",
         "notched": false,
         "offsetgroup": "",
         "orientation": "v",
         "showlegend": false,
         "type": "box",
         "x": [
          "1-10",
          "21-30",
          "31-40",
          "41-50",
          "61-70",
          "11-20",
          "1-10",
          "61-70",
          "41-50",
          "51-60",
          "11-20",
          "41-50",
          "51-60",
          "21-30",
          "21-30",
          "31-40",
          "31-40",
          "61-70",
          "11-20",
          "41-50",
          "51-60",
          "41-50",
          "21-30",
          "51-60",
          "21-30",
          "41-50",
          "31-40",
          "41-50",
          "31-40",
          "11-20",
          "61-70",
          "21-30",
          "21-30",
          "61-70",
          "1-10",
          "41-50",
          "21-30",
          "21-30",
          "61-70",
          "1-10",
          "21-30",
          "51-60",
          "21-30",
          "61-70",
          "31-40",
          "51-60",
          "31-40",
          "11-20",
          "21-30",
          "31-40",
          "31-40",
          "31-40",
          "61-70",
          "61-70",
          "61-70",
          "61-70",
          "51-60",
          "1-10",
          "41-50",
          "61-70",
          "41-50",
          "21-30",
          "41-50",
          "21-30",
          "21-30",
          "51-60",
          "31-40",
          "41-50",
          "31-40",
          "31-40",
          "51-60",
          "51-60",
          "31-40",
          "21-30",
          "61-70",
          "11-20",
          "41-50",
          "21-30",
          "51-60",
          "21-30",
          "41-50",
          "21-30",
          "51-60",
          "61-70",
          "21-30",
          "1-10",
          "1-10",
          "11-20",
          "1-10",
          "41-50",
          "21-30",
          "21-30",
          "11-20",
          "1-10",
          "1-10",
          "21-30",
          "41-50",
          "31-40",
          "61-70",
          "41-50",
          "61-70",
          "61-70",
          "61-70",
          "21-30",
          "1-10",
          "11-20",
          "41-50",
          "11-20",
          "41-50",
          "51-60",
          "1-10",
          "1-10",
          "31-40",
          "51-60",
          "61-70",
          "1-10",
          "1-10",
          "1-10",
          "51-60",
          "51-60",
          "1-10",
          "41-50",
          "31-40",
          "31-40",
          "1-10",
          "21-30",
          "1-10",
          "61-70",
          "11-20",
          "31-40",
          "51-60",
          "31-40",
          "41-50",
          "51-60",
          "21-30",
          "31-40",
          "1-10",
          "11-20",
          "51-60",
          "1-10",
          "61-70",
          "51-60",
          "21-30",
          "31-40",
          "1-10",
          "51-60",
          "61-70",
          "21-30",
          "61-70",
          "11-20",
          "51-60",
          "31-40",
          "11-20",
          "21-30",
          "51-60",
          "21-30",
          "21-30",
          "61-70",
          "31-40",
          "41-50",
          "41-50",
          "31-40",
          "41-50",
          "1-10",
          "11-20",
          "41-50",
          "1-10",
          "41-50",
          "1-10",
          "51-60",
          "61-70",
          "51-60",
          "1-10",
          "41-50",
          "61-70",
          "51-60",
          "1-10",
          "31-40",
          "31-40",
          "1-10",
          "1-10",
          "41-50",
          "1-10",
          "11-20",
          "51-60",
          "41-50",
          "51-60",
          "21-30",
          "11-20",
          "51-60",
          "21-30",
          "1-10",
          "61-70",
          "41-50",
          "1-10",
          "61-70",
          "61-70",
          "1-10",
          "41-50",
          "31-40"
         ],
         "x0": " ",
         "xaxis": "x",
         "y": [
          62.31,
          118.96,
          69.2,
          145.9,
          88.51,
          36.37,
          117.45,
          126.51,
          97,
          86,
          55.33,
          61.14,
          134.19,
          84.19,
          135.22,
          64.9,
          25.31,
          87.17,
          76.74,
          117.79,
          58.79,
          71.76,
          62.49,
          124.97,
          45.26,
          108.96,
          22.7,
          74.16,
          40.31,
          102.07,
          46.25,
          32.53,
          114.74,
          46.16,
          119.99,
          84.12,
          25.93,
          60.92,
          27.32,
          112.38,
          93.03,
          84.1,
          132.22,
          57.92,
          76.53,
          20.16,
          127.33,
          84.07,
          130.43,
          40.1,
          41.49,
          72.13,
          28.67,
          49.01,
          62.96,
          133.51,
          110.31,
          135.82,
          37.93,
          113.81,
          149.44,
          30,
          51.23,
          149.25,
          80.27,
          80.53,
          91.48,
          75.2,
          96.32,
          85.29,
          59.55,
          57.37,
          130.05,
          47.87,
          77.25,
          91.45,
          27.54,
          42.48,
          106.06,
          112.78,
          83.66,
          115.28,
          24.56,
          34.5,
          87.64,
          124.48,
          59.94,
          60.89,
          31.48,
          42.04,
          110.62,
          109.34,
          59.28,
          49.41,
          143.53,
          111.9,
          45.47,
          22.54,
          82.97,
          115.86,
          72.8,
          88.14,
          145.76,
          72,
          53.82,
          21.48,
          24.75,
          125.25,
          145.86,
          139.27,
          25.47,
          101.9,
          23.87,
          23.2,
          78.39,
          77.03,
          32.52,
          141.04,
          87.83,
          97.48,
          72.68,
          44.15,
          139.7,
          33.1,
          46.02,
          133.09,
          117.36,
          131.82,
          47.88,
          71.28,
          141.75,
          131.54,
          115.72,
          21.78,
          31.76,
          127.03,
          45.9,
          105.24,
          83.52,
          75.42,
          83.93,
          30.19,
          39.83,
          89.92,
          136.39,
          118.55,
          53.2,
          83.53,
          141.26,
          28.94,
          131.65,
          66.37,
          111.67,
          22.4,
          140.45,
          54.15,
          145.96,
          145.63,
          67.67,
          93.87,
          55.68,
          63.93,
          59.38,
          62.26,
          65.9,
          94.75,
          33.69,
          67.98,
          32.95,
          78.84,
          108.79,
          89.13,
          121.26,
          91.46,
          125.07,
          107.57,
          128.01,
          35.8,
          138.39,
          25.49,
          115.07,
          109.2,
          45.67,
          106.86,
          117.02,
          126.83,
          132.49,
          94.36,
          34.66,
          82.47,
          39.66,
          85.1,
          120.45,
          35.59,
          108.73,
          113.54,
          133.12,
          96.09,
          142.44,
          128.86
         ],
         "y0": " ",
         "yaxis": "y"
        }
       ],
       "layout": {
        "autosize": true,
        "boxmode": "group",
        "legend": {
         "tracegroupgap": 0
        },
        "template": {
         "data": {
          "bar": [
           {
            "error_x": {
             "color": "#2a3f5f"
            },
            "error_y": {
             "color": "#2a3f5f"
            },
            "marker": {
             "line": {
              "color": "#E5ECF6",
              "width": 0.5
             },
             "pattern": {
              "fillmode": "overlay",
              "size": 10,
              "solidity": 0.2
             }
            },
            "type": "bar"
           }
          ],
          "barpolar": [
           {
            "marker": {
             "line": {
              "color": "#E5ECF6",
              "width": 0.5
             },
             "pattern": {
              "fillmode": "overlay",
              "size": 10,
              "solidity": 0.2
             }
            },
            "type": "barpolar"
           }
          ],
          "carpet": [
           {
            "aaxis": {
             "endlinecolor": "#2a3f5f",
             "gridcolor": "white",
             "linecolor": "white",
             "minorgridcolor": "white",
             "startlinecolor": "#2a3f5f"
            },
            "baxis": {
             "endlinecolor": "#2a3f5f",
             "gridcolor": "white",
             "linecolor": "white",
             "minorgridcolor": "white",
             "startlinecolor": "#2a3f5f"
            },
            "type": "carpet"
           }
          ],
          "choropleth": [
           {
            "colorbar": {
             "outlinewidth": 0,
             "ticks": ""
            },
            "type": "choropleth"
           }
          ],
          "contour": [
           {
            "colorbar": {
             "outlinewidth": 0,
             "ticks": ""
            },
            "colorscale": [
             [
              0,
              "#0d0887"
             ],
             [
              0.1111111111111111,
              "#46039f"
             ],
             [
              0.2222222222222222,
              "#7201a8"
             ],
             [
              0.3333333333333333,
              "#9c179e"
             ],
             [
              0.4444444444444444,
              "#bd3786"
             ],
             [
              0.5555555555555556,
              "#d8576b"
             ],
             [
              0.6666666666666666,
              "#ed7953"
             ],
             [
              0.7777777777777778,
              "#fb9f3a"
             ],
             [
              0.8888888888888888,
              "#fdca26"
             ],
             [
              1,
              "#f0f921"
             ]
            ],
            "type": "contour"
           }
          ],
          "contourcarpet": [
           {
            "colorbar": {
             "outlinewidth": 0,
             "ticks": ""
            },
            "type": "contourcarpet"
           }
          ],
          "heatmap": [
           {
            "colorbar": {
             "outlinewidth": 0,
             "ticks": ""
            },
            "colorscale": [
             [
              0,
              "#0d0887"
             ],
             [
              0.1111111111111111,
              "#46039f"
             ],
             [
              0.2222222222222222,
              "#7201a8"
             ],
             [
              0.3333333333333333,
              "#9c179e"
             ],
             [
              0.4444444444444444,
              "#bd3786"
             ],
             [
              0.5555555555555556,
              "#d8576b"
             ],
             [
              0.6666666666666666,
              "#ed7953"
             ],
             [
              0.7777777777777778,
              "#fb9f3a"
             ],
             [
              0.8888888888888888,
              "#fdca26"
             ],
             [
              1,
              "#f0f921"
             ]
            ],
            "type": "heatmap"
           }
          ],
          "heatmapgl": [
           {
            "colorbar": {
             "outlinewidth": 0,
             "ticks": ""
            },
            "colorscale": [
             [
              0,
              "#0d0887"
             ],
             [
              0.1111111111111111,
              "#46039f"
             ],
             [
              0.2222222222222222,
              "#7201a8"
             ],
             [
              0.3333333333333333,
              "#9c179e"
             ],
             [
              0.4444444444444444,
              "#bd3786"
             ],
             [
              0.5555555555555556,
              "#d8576b"
             ],
             [
              0.6666666666666666,
              "#ed7953"
             ],
             [
              0.7777777777777778,
              "#fb9f3a"
             ],
             [
              0.8888888888888888,
              "#fdca26"
             ],
             [
              1,
              "#f0f921"
             ]
            ],
            "type": "heatmapgl"
           }
          ],
          "histogram": [
           {
            "marker": {
             "pattern": {
              "fillmode": "overlay",
              "size": 10,
              "solidity": 0.2
             }
            },
            "type": "histogram"
           }
          ],
          "histogram2d": [
           {
            "colorbar": {
             "outlinewidth": 0,
             "ticks": ""
            },
            "colorscale": [
             [
              0,
              "#0d0887"
             ],
             [
              0.1111111111111111,
              "#46039f"
             ],
             [
              0.2222222222222222,
              "#7201a8"
             ],
             [
              0.3333333333333333,
              "#9c179e"
             ],
             [
              0.4444444444444444,
              "#bd3786"
             ],
             [
              0.5555555555555556,
              "#d8576b"
             ],
             [
              0.6666666666666666,
              "#ed7953"
             ],
             [
              0.7777777777777778,
              "#fb9f3a"
             ],
             [
              0.8888888888888888,
              "#fdca26"
             ],
             [
              1,
              "#f0f921"
             ]
            ],
            "type": "histogram2d"
           }
          ],
          "histogram2dcontour": [
           {
            "colorbar": {
             "outlinewidth": 0,
             "ticks": ""
            },
            "colorscale": [
             [
              0,
              "#0d0887"
             ],
             [
              0.1111111111111111,
              "#46039f"
             ],
             [
              0.2222222222222222,
              "#7201a8"
             ],
             [
              0.3333333333333333,
              "#9c179e"
             ],
             [
              0.4444444444444444,
              "#bd3786"
             ],
             [
              0.5555555555555556,
              "#d8576b"
             ],
             [
              0.6666666666666666,
              "#ed7953"
             ],
             [
              0.7777777777777778,
              "#fb9f3a"
             ],
             [
              0.8888888888888888,
              "#fdca26"
             ],
             [
              1,
              "#f0f921"
             ]
            ],
            "type": "histogram2dcontour"
           }
          ],
          "mesh3d": [
           {
            "colorbar": {
             "outlinewidth": 0,
             "ticks": ""
            },
            "type": "mesh3d"
           }
          ],
          "parcoords": [
           {
            "line": {
             "colorbar": {
              "outlinewidth": 0,
              "ticks": ""
             }
            },
            "type": "parcoords"
           }
          ],
          "pie": [
           {
            "automargin": true,
            "type": "pie"
           }
          ],
          "scatter": [
           {
            "fillpattern": {
             "fillmode": "overlay",
             "size": 10,
             "solidity": 0.2
            },
            "type": "scatter"
           }
          ],
          "scatter3d": [
           {
            "line": {
             "colorbar": {
              "outlinewidth": 0,
              "ticks": ""
             }
            },
            "marker": {
             "colorbar": {
              "outlinewidth": 0,
              "ticks": ""
             }
            },
            "type": "scatter3d"
           }
          ],
          "scattercarpet": [
           {
            "marker": {
             "colorbar": {
              "outlinewidth": 0,
              "ticks": ""
             }
            },
            "type": "scattercarpet"
           }
          ],
          "scattergeo": [
           {
            "marker": {
             "colorbar": {
              "outlinewidth": 0,
              "ticks": ""
             }
            },
            "type": "scattergeo"
           }
          ],
          "scattergl": [
           {
            "marker": {
             "colorbar": {
              "outlinewidth": 0,
              "ticks": ""
             }
            },
            "type": "scattergl"
           }
          ],
          "scattermapbox": [
           {
            "marker": {
             "colorbar": {
              "outlinewidth": 0,
              "ticks": ""
             }
            },
            "type": "scattermapbox"
           }
          ],
          "scatterpolar": [
           {
            "marker": {
             "colorbar": {
              "outlinewidth": 0,
              "ticks": ""
             }
            },
            "type": "scatterpolar"
           }
          ],
          "scatterpolargl": [
           {
            "marker": {
             "colorbar": {
              "outlinewidth": 0,
              "ticks": ""
             }
            },
            "type": "scatterpolargl"
           }
          ],
          "scatterternary": [
           {
            "marker": {
             "colorbar": {
              "outlinewidth": 0,
              "ticks": ""
             }
            },
            "type": "scatterternary"
           }
          ],
          "surface": [
           {
            "colorbar": {
             "outlinewidth": 0,
             "ticks": ""
            },
            "colorscale": [
             [
              0,
              "#0d0887"
             ],
             [
              0.1111111111111111,
              "#46039f"
             ],
             [
              0.2222222222222222,
              "#7201a8"
             ],
             [
              0.3333333333333333,
              "#9c179e"
             ],
             [
              0.4444444444444444,
              "#bd3786"
             ],
             [
              0.5555555555555556,
              "#d8576b"
             ],
             [
              0.6666666666666666,
              "#ed7953"
             ],
             [
              0.7777777777777778,
              "#fb9f3a"
             ],
             [
              0.8888888888888888,
              "#fdca26"
             ],
             [
              1,
              "#f0f921"
             ]
            ],
            "type": "surface"
           }
          ],
          "table": [
           {
            "cells": {
             "fill": {
              "color": "#EBF0F8"
             },
             "line": {
              "color": "white"
             }
            },
            "header": {
             "fill": {
              "color": "#C8D4E3"
             },
             "line": {
              "color": "white"
             }
            },
            "type": "table"
           }
          ]
         },
         "layout": {
          "annotationdefaults": {
           "arrowcolor": "#2a3f5f",
           "arrowhead": 0,
           "arrowwidth": 1
          },
          "autotypenumbers": "strict",
          "coloraxis": {
           "colorbar": {
            "outlinewidth": 0,
            "ticks": ""
           }
          },
          "colorscale": {
           "diverging": [
            [
             0,
             "#8e0152"
            ],
            [
             0.1,
             "#c51b7d"
            ],
            [
             0.2,
             "#de77ae"
            ],
            [
             0.3,
             "#f1b6da"
            ],
            [
             0.4,
             "#fde0ef"
            ],
            [
             0.5,
             "#f7f7f7"
            ],
            [
             0.6,
             "#e6f5d0"
            ],
            [
             0.7,
             "#b8e186"
            ],
            [
             0.8,
             "#7fbc41"
            ],
            [
             0.9,
             "#4d9221"
            ],
            [
             1,
             "#276419"
            ]
           ],
           "sequential": [
            [
             0,
             "#0d0887"
            ],
            [
             0.1111111111111111,
             "#46039f"
            ],
            [
             0.2222222222222222,
             "#7201a8"
            ],
            [
             0.3333333333333333,
             "#9c179e"
            ],
            [
             0.4444444444444444,
             "#bd3786"
            ],
            [
             0.5555555555555556,
             "#d8576b"
            ],
            [
             0.6666666666666666,
             "#ed7953"
            ],
            [
             0.7777777777777778,
             "#fb9f3a"
            ],
            [
             0.8888888888888888,
             "#fdca26"
            ],
            [
             1,
             "#f0f921"
            ]
           ],
           "sequentialminus": [
            [
             0,
             "#0d0887"
            ],
            [
             0.1111111111111111,
             "#46039f"
            ],
            [
             0.2222222222222222,
             "#7201a8"
            ],
            [
             0.3333333333333333,
             "#9c179e"
            ],
            [
             0.4444444444444444,
             "#bd3786"
            ],
            [
             0.5555555555555556,
             "#d8576b"
            ],
            [
             0.6666666666666666,
             "#ed7953"
            ],
            [
             0.7777777777777778,
             "#fb9f3a"
            ],
            [
             0.8888888888888888,
             "#fdca26"
            ],
            [
             1,
             "#f0f921"
            ]
           ]
          },
          "colorway": [
           "#636efa",
           "#EF553B",
           "#00cc96",
           "#ab63fa",
           "#FFA15A",
           "#19d3f3",
           "#FF6692",
           "#B6E880",
           "#FF97FF",
           "#FECB52"
          ],
          "font": {
           "color": "#2a3f5f"
          },
          "geo": {
           "bgcolor": "white",
           "lakecolor": "white",
           "landcolor": "#E5ECF6",
           "showlakes": true,
           "showland": true,
           "subunitcolor": "white"
          },
          "hoverlabel": {
           "align": "left"
          },
          "hovermode": "closest",
          "mapbox": {
           "style": "light"
          },
          "paper_bgcolor": "white",
          "plot_bgcolor": "#E5ECF6",
          "polar": {
           "angularaxis": {
            "gridcolor": "white",
            "linecolor": "white",
            "ticks": ""
           },
           "bgcolor": "#E5ECF6",
           "radialaxis": {
            "gridcolor": "white",
            "linecolor": "white",
            "ticks": ""
           }
          },
          "scene": {
           "xaxis": {
            "backgroundcolor": "#E5ECF6",
            "gridcolor": "white",
            "gridwidth": 2,
            "linecolor": "white",
            "showbackground": true,
            "ticks": "",
            "zerolinecolor": "white"
           },
           "yaxis": {
            "backgroundcolor": "#E5ECF6",
            "gridcolor": "white",
            "gridwidth": 2,
            "linecolor": "white",
            "showbackground": true,
            "ticks": "",
            "zerolinecolor": "white"
           },
           "zaxis": {
            "backgroundcolor": "#E5ECF6",
            "gridcolor": "white",
            "gridwidth": 2,
            "linecolor": "white",
            "showbackground": true,
            "ticks": "",
            "zerolinecolor": "white"
           }
          },
          "shapedefaults": {
           "line": {
            "color": "#2a3f5f"
           }
          },
          "ternary": {
           "aaxis": {
            "gridcolor": "white",
            "linecolor": "white",
            "ticks": ""
           },
           "baxis": {
            "gridcolor": "white",
            "linecolor": "white",
            "ticks": ""
           },
           "bgcolor": "#E5ECF6",
           "caxis": {
            "gridcolor": "white",
            "linecolor": "white",
            "ticks": ""
           }
          },
          "title": {
           "x": 0.05
          },
          "xaxis": {
           "automargin": true,
           "gridcolor": "white",
           "linecolor": "white",
           "ticks": "",
           "title": {
            "standoff": 15
           },
           "zerolinecolor": "white",
           "zerolinewidth": 2
          },
          "yaxis": {
           "automargin": true,
           "gridcolor": "white",
           "linecolor": "white",
           "ticks": "",
           "title": {
            "standoff": 15
           },
           "zerolinecolor": "white",
           "zerolinewidth": 2
          }
         }
        },
        "title": {
         "text": "Tenure vs Monthly Charges"
        },
        "xaxis": {
         "anchor": "y",
         "autorange": true,
         "domain": [
          0,
          1
         ],
         "range": [
          -0.5223880597014925,
          6.5
         ],
         "title": {
          "text": "Tenure_Bins"
         },
         "type": "category"
        },
        "yaxis": {
         "anchor": "x",
         "autorange": true,
         "domain": [
          0,
          1
         ],
         "range": [
          12.977777777777778,
          156.6222222222222
         ],
         "title": {
          "text": "MonthlyCharges"
         },
         "type": "linear"
        }
       }
      },
      "image/png": "[encoded data removed]",
      "text/html": [
       "<div>                            <div id=\"57f77ca8-fd0b-4949-bdfc-158478f62e3e\" class=\"plotly-graph-div\" style=\"height:525px; width:100%;\"></div>            <script type=\"text/javascript\">                require([\"plotly\"], function(Plotly) {                    window.PLOTLYENV=window.PLOTLYENV || {};                                    if (document.getElementById(\"57f77ca8-fd0b-4949-bdfc-158478f62e3e\")) {                    Plotly.newPlot(                        \"57f77ca8-fd0b-4949-bdfc-158478f62e3e\",                        [{\"alignmentgroup\":\"True\",\"boxpoints\":\"all\",\"hovertemplate\":\"Tenure_Bins=%{x}\\u003cbr\\u003eMonthlyCharges=%{y}\\u003cextra\\u003e\\u003c\\u002fextra\\u003e\",\"legendgroup\":\"\",\"marker\":{\"color\":\"#636efa\"},\"name\":\"\",\"notched\":false,\"offsetgroup\":\"\",\"orientation\":\"v\",\"showlegend\":false,\"x\":[\"1-10\",\"21-30\",\"31-40\",\"41-50\",\"61-70\",\"11-20\",\"1-10\",\"61-70\",\"41-50\",\"51-60\",\"11-20\",\"41-50\",\"51-60\",\"21-30\",\"21-30\",\"31-40\",\"31-40\",\"61-70\",\"11-20\",\"41-50\",\"51-60\",\"41-50\",\"21-30\",\"51-60\",\"21-30\",\"41-50\",\"31-40\",\"41-50\",\"31-40\",\"11-20\",\"61-70\",\"21-30\",\"21-30\",\"61-70\",\"1-10\",\"41-50\",\"21-30\",\"21-30\",\"61-70\",\"1-10\",\"21-30\",\"51-60\",\"21-30\",\"61-70\",\"31-40\",\"51-60\",\"31-40\",\"11-20\",\"21-30\",\"31-40\",\"31-40\",\"31-40\",\"61-70\",\"61-70\",\"61-70\",\"61-70\",\"51-60\",\"1-10\",\"41-50\",\"61-70\",\"41-50\",\"21-30\",\"41-50\",\"21-30\",\"21-30\",\"51-60\",\"31-40\",\"41-50\",\"31-40\",\"31-40\",\"51-60\",\"51-60\",\"31-40\",\"21-30\",\"61-70\",\"11-20\",\"41-50\",\"21-30\",\"51-60\",\"21-30\",\"41-50\",\"21-30\",\"51-60\",\"61-70\",\"21-30\",\"1-10\",\"1-10\",\"11-20\",\"1-10\",\"41-50\",\"21-30\",\"21-30\",\"11-20\",\"1-10\",\"1-10\",\"21-30\",\"41-50\",\"31-40\",\"61-70\",\"41-50\",\"61-70\",\"61-70\",\"61-70\",\"21-30\",\"1-10\",\"11-20\",\"41-50\",\"11-20\",\"41-50\",\"51-60\",\"1-10\",\"1-10\",\"31-40\",\"51-60\",\"61-70\",\"1-10\",\"1-10\",\"1-10\",\"51-60\",\"51-60\",\"1-10\",\"41-50\",\"31-40\",\"31-40\",\"1-10\",\"21-30\",\"1-10\",\"61-70\",\"11-20\",\"31-40\",\"51-60\",\"31-40\",\"41-50\",\"51-60\",\"21-30\",\"31-40\",\"1-10\",\"11-20\",\"51-60\",\"1-10\",\"61-70\",\"51-60\",\"21-30\",\"31-40\",\"1-10\",\"51-60\",\"61-70\",\"21-30\",\"61-70\",\"11-20\",\"51-60\",\"31-40\",\"11-20\",\"21-30\",\"51-60\",\"21-30\",\"21-30\",\"61-70\",\"31-40\",\"41-50\",\"41-50\",\"31-40\",\"41-50\",\"1-10\",\"11-20\",\"41-50\",\"1-10\",\"41-50\",\"1-10\",\"51-60\",\"61-70\",\"51-60\",\"1-10\",\"41-50\",\"61-70\",\"51-60\",\"1-10\",\"31-40\",\"31-40\",\"1-10\",\"1-10\",\"41-50\",\"1-10\",\"11-20\",\"51-60\",\"41-50\",\"51-60\",\"21-30\",\"11-20\",\"51-60\",\"21-30\",\"1-10\",\"61-70\",\"41-50\",\"1-10\",\"61-70\",\"61-70\",\"1-10\",\"41-50\",\"31-40\"],\"x0\":\" \",\"xaxis\":\"x\",\"y\":[62.31,118.96,69.2,145.9,88.51,36.37,117.45,126.51,97.0,86.0,55.33,61.14,134.19,84.19,135.22,64.9,25.31,87.17,76.74,117.79,58.79,71.76,62.49,124.97,45.26,108.96,22.7,74.16,40.31,102.07,46.25,32.53,114.74,46.16,119.99,84.12,25.93,60.92,27.32,112.38,93.03,84.1,132.22,57.92,76.53,20.16,127.33,84.07,130.43,40.1,41.49,72.13,28.67,49.01,62.96,133.51,110.31,135.82,37.93,113.81,149.44,30.0,51.23,149.25,80.27,80.53,91.48,75.2,96.32,85.29,59.55,57.37,130.05,47.87,77.25,91.45,27.54,42.48,106.06,112.78,83.66,115.28,24.56,34.5,87.64,124.48,59.94,60.89,31.48,42.04,110.62,109.34,59.28,49.41,143.53,111.9,45.47,22.54,82.97,115.86,72.8,88.14,145.76,72.0,53.82,21.48,24.75,125.25,145.86,139.27,25.47,101.9,23.87,23.2,78.39,77.03,32.52,141.04,87.83,97.48,72.68,44.15,139.7,33.1,46.02,133.09,117.36,131.82,47.88,71.28,141.75,131.54,115.72,21.78,31.76,127.03,45.9,105.24,83.52,75.42,83.93,30.19,39.83,89.92,136.39,118.55,53.2,83.53,141.26,28.94,131.65,66.37,111.67,22.4,140.45,54.15,145.96,145.63,67.67,93.87,55.68,63.93,59.38,62.26,65.9,94.75,33.69,67.98,32.95,78.84,108.79,89.13,121.26,91.46,125.07,107.57,128.01,35.8,138.39,25.49,115.07,109.2,45.67,106.86,117.02,126.83,132.49,94.36,34.66,82.47,39.66,85.1,120.45,35.59,108.73,113.54,133.12,96.09,142.44,128.86],\"y0\":\" \",\"yaxis\":\"y\",\"type\":\"box\"}],                        {\"template\":{\"data\":{\"histogram2dcontour\":[{\"type\":\"histogram2dcontour\",\"colorbar\":{\"outlinewidth\":0,\"ticks\":\"\"},\"colorscale\":[[0.0,\"#0d0887\"],[0.1111111111111111,\"#46039f\"],[0.2222222222222222,\"#7201a8\"],[0.3333333333333333,\"#9c179e\"],[0.4444444444444444,\"#bd3786\"],[0.5555555555555556,\"#d8576b\"],[0.6666666666666666,\"#ed7953\"],[0.7777777777777778,\"#fb9f3a\"],[0.8888888888888888,\"#fdca26\"],[1.0,\"#f0f921\"]]}],\"choropleth\":[{\"type\":\"choropleth\",\"colorbar\":{\"outlinewidth\":0,\"ticks\":\"\"}}],\"histogram2d\":[{\"type\":\"histogram2d\",\"colorbar\":{\"outlinewidth\":0,\"ticks\":\"\"},\"colorscale\":[[0.0,\"#0d0887\"],[0.1111111111111111,\"#46039f\"],[0.2222222222222222,\"#7201a8\"],[0.3333333333333333,\"#9c179e\"],[0.4444444444444444,\"#bd3786\"],[0.5555555555555556,\"#d8576b\"],[0.6666666666666666,\"#ed7953\"],[0.7777777777777778,\"#fb9f3a\"],[0.8888888888888888,\"#fdca26\"],[1.0,\"#f0f921\"]]}],\"heatmap\":[{\"type\":\"heatmap\",\"colorbar\":{\"outlinewidth\":0,\"ticks\":\"\"},\"colorscale\":[[0.0,\"#0d0887\"],[0.1111111111111111,\"#46039f\"],[0.2222222222222222,\"#7201a8\"],[0.3333333333333333,\"#9c179e\"],[0.4444444444444444,\"#bd3786\"],[0.5555555555555556,\"#d8576b\"],[0.6666666666666666,\"#ed7953\"],[0.7777777777777778,\"#fb9f3a\"],[0.8888888888888888,\"#fdca26\"],[1.0,\"#f0f921\"]]}],\"heatmapgl\":[{\"type\":\"heatmapgl\",\"colorbar\":{\"outlinewidth\":0,\"ticks\":\"\"},\"colorscale\":[[0.0,\"#0d0887\"],[0.1111111111111111,\"#46039f\"],[0.2222222222222222,\"#7201a8\"],[0.3333333333333333,\"#9c179e\"],[0.4444444444444444,\"#bd3786\"],[0.5555555555555556,\"#d8576b\"],[0.6666666666666666,\"#ed7953\"],[0.7777777777777778,\"#fb9f3a\"],[0.8888888888888888,\"#fdca26\"],[1.0,\"#f0f921\"]]}],\"contourcarpet\":[{\"type\":\"contourcarpet\",\"colorbar\":{\"outlinewidth\":0,\"ticks\":\"\"}}],\"contour\":[{\"type\":\"contour\",\"colorbar\":{\"outlinewidth\":0,\"ticks\":\"\"},\"colorscale\":[[0.0,\"#0d0887\"],[0.1111111111111111,\"#46039f\"],[0.2222222222222222,\"#7201a8\"],[0.3333333333333333,\"#9c179e\"],[0.4444444444444444,\"#bd3786\"],[0.5555555555555556,\"#d8576b\"],[0.6666666666666666,\"#ed7953\"],[0.7777777777777778,\"#fb9f3a\"],[0.8888888888888888,\"#fdca26\"],[1.0,\"#f0f921\"]]}],\"surface\":[{\"type\":\"surface\",\"colorbar\":{\"outlinewidth\":0,\"ticks\":\"\"},\"colorscale\":[[0.0,\"#0d0887\"],[0.1111111111111111,\"#46039f\"],[0.2222222222222222,\"#7201a8\"],[0.3333333333333333,\"#9c179e\"],[0.4444444444444444,\"#bd3786\"],[0.5555555555555556,\"#d8576b\"],[0.6666666666666666,\"#ed7953\"],[0.7777777777777778,\"#fb9f3a\"],[0.8888888888888888,\"#fdca26\"],[1.0,\"#f0f921\"]]}],\"mesh3d\":[{\"type\":\"mesh3d\",\"colorbar\":{\"outlinewidth\":0,\"ticks\":\"\"}}],\"scatter\":[{\"fillpattern\":{\"fillmode\":\"overlay\",\"size\":10,\"solidity\":0.2},\"type\":\"scatter\"}],\"parcoords\":[{\"type\":\"parcoords\",\"line\":{\"colorbar\":{\"outlinewidth\":0,\"ticks\":\"\"}}}],\"scatterpolargl\":[{\"type\":\"scatterpolargl\",\"marker\":{\"colorbar\":{\"outlinewidth\":0,\"ticks\":\"\"}}}],\"bar\":[{\"error_x\":{\"color\":\"#2a3f5f\"},\"error_y\":{\"color\":\"#2a3f5f\"},\"marker\":{\"line\":{\"color\":\"#E5ECF6\",\"width\":0.5},\"pattern\":{\"fillmode\":\"overlay\",\"size\":10,\"solidity\":0.2}},\"type\":\"bar\"}],\"scattergeo\":[{\"type\":\"scattergeo\",\"marker\":{\"colorbar\":{\"outlinewidth\":0,\"ticks\":\"\"}}}],\"scatterpolar\":[{\"type\":\"scatterpolar\",\"marker\":{\"colorbar\":{\"outlinewidth\":0,\"ticks\":\"\"}}}],\"histogram\":[{\"marker\":{\"pattern\":{\"fillmode\":\"overlay\",\"size\":10,\"solidity\":0.2}},\"type\":\"histogram\"}],\"scattergl\":[{\"type\":\"scattergl\",\"marker\":{\"colorbar\":{\"outlinewidth\":0,\"ticks\":\"\"}}}],\"scatter3d\":[{\"type\":\"scatter3d\",\"line\":{\"colorbar\":{\"outlinewidth\":0,\"ticks\":\"\"}},\"marker\":{\"colorbar\":{\"outlinewidth\":0,\"ticks\":\"\"}}}],\"scattermapbox\":[{\"type\":\"scattermapbox\",\"marker\":{\"colorbar\":{\"outlinewidth\":0,\"ticks\":\"\"}}}],\"scatterternary\":[{\"type\":\"scatterternary\",\"marker\":{\"colorbar\":{\"outlinewidth\":0,\"ticks\":\"\"}}}],\"scattercarpet\":[{\"type\":\"scattercarpet\",\"marker\":{\"colorbar\":{\"outlinewidth\":0,\"ticks\":\"\"}}}],\"carpet\":[{\"aaxis\":{\"endlinecolor\":\"#2a3f5f\",\"gridcolor\":\"white\",\"linecolor\":\"white\",\"minorgridcolor\":\"white\",\"startlinecolor\":\"#2a3f5f\"},\"baxis\":{\"endlinecolor\":\"#2a3f5f\",\"gridcolor\":\"white\",\"linecolor\":\"white\",\"minorgridcolor\":\"white\",\"startlinecolor\":\"#2a3f5f\"},\"type\":\"carpet\"}],\"table\":[{\"cells\":{\"fill\":{\"color\":\"#EBF0F8\"},\"line\":{\"color\":\"white\"}},\"header\":{\"fill\":{\"color\":\"#C8D4E3\"},\"line\":{\"color\":\"white\"}},\"type\":\"table\"}],\"barpolar\":[{\"marker\":{\"line\":{\"color\":\"#E5ECF6\",\"width\":0.5},\"pattern\":{\"fillmode\":\"overlay\",\"size\":10,\"solidity\":0.2}},\"type\":\"barpolar\"}],\"pie\":[{\"automargin\":true,\"type\":\"pie\"}]},\"layout\":{\"autotypenumbers\":\"strict\",\"colorway\":[\"#636efa\",\"#EF553B\",\"#00cc96\",\"#ab63fa\",\"#FFA15A\",\"#19d3f3\",\"#FF6692\",\"#B6E880\",\"#FF97FF\",\"#FECB52\"],\"font\":{\"color\":\"#2a3f5f\"},\"hovermode\":\"closest\",\"hoverlabel\":{\"align\":\"left\"},\"paper_bgcolor\":\"white\",\"plot_bgcolor\":\"#E5ECF6\",\"polar\":{\"bgcolor\":\"#E5ECF6\",\"angularaxis\":{\"gridcolor\":\"white\",\"linecolor\":\"white\",\"ticks\":\"\"},\"radialaxis\":{\"gridcolor\":\"white\",\"linecolor\":\"white\",\"ticks\":\"\"}},\"ternary\":{\"bgcolor\":\"#E5ECF6\",\"aaxis\":{\"gridcolor\":\"white\",\"linecolor\":\"white\",\"ticks\":\"\"},\"baxis\":{\"gridcolor\":\"white\",\"linecolor\":\"white\",\"ticks\":\"\"},\"caxis\":{\"gridcolor\":\"white\",\"linecolor\":\"white\",\"ticks\":\"\"}},\"coloraxis\":{\"colorbar\":{\"outlinewidth\":0,\"ticks\":\"\"}},\"colorscale\":{\"sequential\":[[0.0,\"#0d0887\"],[0.1111111111111111,\"#46039f\"],[0.2222222222222222,\"#7201a8\"],[0.3333333333333333,\"#9c179e\"],[0.4444444444444444,\"#bd3786\"],[0.5555555555555556,\"#d8576b\"],[0.6666666666666666,\"#ed7953\"],[0.7777777777777778,\"#fb9f3a\"],[0.8888888888888888,\"#fdca26\"],[1.0,\"#f0f921\"]],\"sequentialminus\":[[0.0,\"#0d0887\"],[0.1111111111111111,\"#46039f\"],[0.2222222222222222,\"#7201a8\"],[0.3333333333333333,\"#9c179e\"],[0.4444444444444444,\"#bd3786\"],[0.5555555555555556,\"#d8576b\"],[0.6666666666666666,\"#ed7953\"],[0.7777777777777778,\"#fb9f3a\"],[0.8888888888888888,\"#fdca26\"],[1.0,\"#f0f921\"]],\"diverging\":[[0,\"#8e0152\"],[0.1,\"#c51b7d\"],[0.2,\"#de77ae\"],[0.3,\"#f1b6da\"],[0.4,\"#fde0ef\"],[0.5,\"#f7f7f7\"],[0.6,\"#e6f5d0\"],[0.7,\"#b8e186\"],[0.8,\"#7fbc41\"],[0.9,\"#4d9221\"],[1,\"#276419\"]]},\"xaxis\":{\"gridcolor\":\"white\",\"linecolor\":\"white\",\"ticks\":\"\",\"title\":{\"standoff\":15},\"zerolinecolor\":\"white\",\"automargin\":true,\"zerolinewidth\":2},\"yaxis\":{\"gridcolor\":\"white\",\"linecolor\":\"white\",\"ticks\":\"\",\"title\":{\"standoff\":15},\"zerolinecolor\":\"white\",\"automargin\":true,\"zerolinewidth\":2},\"scene\":{\"xaxis\":{\"backgroundcolor\":\"#E5ECF6\",\"gridcolor\":\"white\",\"linecolor\":\"white\",\"showbackground\":true,\"ticks\":\"\",\"zerolinecolor\":\"white\",\"gridwidth\":2},\"yaxis\":{\"backgroundcolor\":\"#E5ECF6\",\"gridcolor\":\"white\",\"linecolor\":\"white\",\"showbackground\":true,\"ticks\":\"\",\"zerolinecolor\":\"white\",\"gridwidth\":2},\"zaxis\":{\"backgroundcolor\":\"#E5ECF6\",\"gridcolor\":\"white\",\"linecolor\":\"white\",\"showbackground\":true,\"ticks\":\"\",\"zerolinecolor\":\"white\",\"gridwidth\":2}},\"shapedefaults\":{\"line\":{\"color\":\"#2a3f5f\"}},\"annotationdefaults\":{\"arrowcolor\":\"#2a3f5f\",\"arrowhead\":0,\"arrowwidth\":1},\"geo\":{\"bgcolor\":\"white\",\"landcolor\":\"#E5ECF6\",\"subunitcolor\":\"white\",\"showland\":true,\"showlakes\":true,\"lakecolor\":\"white\"},\"title\":{\"x\":0.05},\"mapbox\":{\"style\":\"light\"}}},\"xaxis\":{\"anchor\":\"y\",\"domain\":[0.0,1.0],\"title\":{\"text\":\"Tenure_Bins\"}},\"yaxis\":{\"anchor\":\"x\",\"domain\":[0.0,1.0],\"title\":{\"text\":\"MonthlyCharges\"}},\"legend\":{\"tracegroupgap\":0},\"title\":{\"text\":\"Tenure vs Monthly Charges\"},\"boxmode\":\"group\"},                        {\"responsive\": true}                    ).then(function(){\n",
       "                            \n",
       "var gd = document.getElementById('57f77ca8-fd0b-4949-bdfc-158478f62e3e');\n",
       "var x = new MutationObserver(function (mutations, observer) {{\n",
       "        var display = window.getComputedStyle(gd).display;\n",
       "        if (!display || display === 'none') {{\n",
       "            console.log([gd, 'removed!']);\n",
       "            Plotly.purge(gd);\n",
       "            observer.disconnect();\n",
       "        }}\n",
       "}});\n",
       "\n",
       "// Listen for the removal of the full notebook cells\n",
       "var notebookContainer = gd.closest('#notebook-container');\n",
       "if (notebookContainer) {{\n",
       "    x.observe(notebookContainer, {childList: true});\n",
       "}}\n",
       "\n",
       "// Listen for the clearing of the current output cell\n",
       "var outputEl = gd.closest('.output');\n",
       "if (outputEl) {{\n",
       "    x.observe(outputEl, {childList: true});\n",
       "}}\n",
       "\n",
       "                        })                };                });            </script>        </div>"
      ]
     },
     "metadata": {},
     "output_type": "display_data"
    }
   ],
   "source": [
    "# Tenure vs Monthly Charge\n",
    "import plotly.express as px\n",
    "df['Tenure_Bins'] = pd.cut(df['Tenure'], bins=[0, 10, 20, 30, 40, 50, 60, 70], labels=['1-10', '11-20', '21-30', '31-40', '41-50', '51-60', '61-70'])\n",
    "fig = px.box(df, x=\"Tenure_Bins\", y=\"MonthlyCharges\", points=\"all\", title=\"Tenure vs Monthly Charges\")\n",
    "fig.show()"
   ]
  },
  {
   "cell_type": "code",
   "execution_count": 222,
   "id": "84925b62-afc8-416a-8144-4a4ca845e0b2",
   "metadata": {},
   "outputs": [
    {
     "data": {
      "application/vnd.plotly.v1+json": {
       "config": {
        "plotlyServerURL": "https://plot.ly"
       },
       "data": [
        {
         "alignmentgroup": "True",
         "boxpoints": "all",
         "hovertemplate": "Tenure_Bins=%{x}<br>TotalCharges=%{y}<extra></extra>",
         "legendgroup": "",
         "marker": {
          "color": "#636efa"
         },
         "name": "",
         "notched": false,
         "offsetgroup": "",
         "orientation": "v",
         "showlegend": false,
         "type": "box",
         "x": [
          "1-10",
          "21-30",
          "31-40",
          "41-50",
          "61-70",
          "11-20",
          "1-10",
          "61-70",
          "41-50",
          "51-60",
          "11-20",
          "41-50",
          "51-60",
          "21-30",
          "21-30",
          "31-40",
          "31-40",
          "61-70",
          "11-20",
          "41-50",
          "51-60",
          "41-50",
          "21-30",
          "51-60",
          "21-30",
          "41-50",
          "31-40",
          "41-50",
          "31-40",
          "11-20",
          "61-70",
          "21-30",
          "21-30",
          "61-70",
          "1-10",
          "41-50",
          "21-30",
          "21-30",
          "61-70",
          "1-10",
          "21-30",
          "51-60",
          "21-30",
          "61-70",
          "31-40",
          "51-60",
          "31-40",
          "11-20",
          "21-30",
          "31-40",
          "31-40",
          "31-40",
          "61-70",
          "61-70",
          "61-70",
          "61-70",
          "51-60",
          "1-10",
          "41-50",
          "61-70",
          "41-50",
          "21-30",
          "41-50",
          "21-30",
          "21-30",
          "51-60",
          "31-40",
          "41-50",
          "31-40",
          "31-40",
          "51-60",
          "51-60",
          "31-40",
          "21-30",
          "61-70",
          "11-20",
          "41-50",
          "21-30",
          "51-60",
          "21-30",
          "41-50",
          "21-30",
          "51-60",
          "61-70",
          "21-30",
          "1-10",
          "1-10",
          "11-20",
          "1-10",
          "41-50",
          "21-30",
          "21-30",
          "11-20",
          "1-10",
          "1-10",
          "21-30",
          "41-50",
          "31-40",
          "61-70",
          "41-50",
          "61-70",
          "61-70",
          "61-70",
          "21-30",
          "1-10",
          "11-20",
          "41-50",
          "11-20",
          "41-50",
          "51-60",
          "1-10",
          "1-10",
          "31-40",
          "51-60",
          "61-70",
          "1-10",
          "1-10",
          "1-10",
          "51-60",
          "51-60",
          "1-10",
          "41-50",
          "31-40",
          "31-40",
          "1-10",
          "21-30",
          "1-10",
          "61-70",
          "11-20",
          "31-40",
          "51-60",
          "31-40",
          "41-50",
          "51-60",
          "21-30",
          "31-40",
          "1-10",
          "11-20",
          "51-60",
          "1-10",
          "61-70",
          "51-60",
          "21-30",
          "31-40",
          "1-10",
          "51-60",
          "61-70",
          "21-30",
          "61-70",
          "11-20",
          "51-60",
          "31-40",
          "11-20",
          "21-30",
          "51-60",
          "21-30",
          "21-30",
          "61-70",
          "31-40",
          "41-50",
          "41-50",
          "31-40",
          "41-50",
          "1-10",
          "11-20",
          "41-50",
          "1-10",
          "41-50",
          "1-10",
          "51-60",
          "61-70",
          "51-60",
          "1-10",
          "41-50",
          "61-70",
          "51-60",
          "1-10",
          "31-40",
          "31-40",
          "1-10",
          "1-10",
          "41-50",
          "1-10",
          "11-20",
          "51-60",
          "41-50",
          "51-60",
          "21-30",
          "11-20",
          "51-60",
          "21-30",
          "1-10",
          "61-70",
          "41-50",
          "1-10",
          "61-70",
          "61-70",
          "1-10",
          "41-50",
          "31-40"
         ],
         "x0": " ",
         "xaxis": "x",
         "y": [
          2950.41,
          7460.55,
          3064.73,
          2612.22,
          4833.99,
          8490.43,
          4044.35,
          3617.55,
          1791.08,
          6116.27,
          1223.44,
          7122.12,
          9516.33,
          9513.28,
          7881.34,
          6593.67,
          883.69,
          7620.91,
          5173.58,
          5248.77,
          1741.72,
          2426.6,
          9473.08,
          1355.51,
          669.76,
          8047.19,
          1374.32,
          4435.52,
          7790.86,
          4505.9,
          5484.45,
          6065.51,
          3739.63,
          9413.94,
          4391.15,
          5828.47,
          9984.36,
          2296.08,
          462.62,
          6207.76,
          3774.89,
          8849.61,
          5744.78,
          1912.24,
          9430.39,
          735.46,
          3519.4,
          2414.74,
          1428.14,
          2720.94,
          6517.85,
          3291.2,
          9818.6,
          3163.5,
          2786.58,
          5417.01,
          4317.17,
          6606.19,
          288.82,
          7361.22,
          2359.42,
          5468.76,
          2755.58,
          2187.57,
          5408.73,
          7233.28,
          7993.77,
          8559.7,
          4263.83,
          4700.6,
          8976.89,
          2546.98,
          7666.13,
          6805.56,
          8292.13,
          6746.94,
          4652.23,
          1791.83,
          1775.09,
          9683.2,
          3943.86,
          7816.83,
          8433.05,
          2817.07,
          7853.25,
          7915.43,
          5053.16,
          7556.19,
          2547.27,
          3878.65,
          7596.25,
          1877.8,
          6180.41,
          9920.54,
          4347.48,
          756.34,
          3642.31,
          3255.19,
          7271.57,
          9059.2,
          7218.53,
          813.2,
          4496.87,
          3557.26,
          6878.63,
          2855.44,
          6716.31,
          6856.14,
          6492.98,
          3458.47,
          8352.36,
          8164.03,
          8193.46,
          7812.97,
          4256.13,
          5224.44,
          9177.48,
          7045.18,
          8123.72,
          5349.28,
          1701.34,
          9004.15,
          5683.82,
          1815.36,
          7728.48,
          3364.54,
          2256.29,
          2934.17,
          2195.76,
          7617.29,
          1469.22,
          6107.18,
          3751.68,
          5286.52,
          3117.08,
          1100.89,
          9200.66,
          8596.12,
          2331.44,
          1968.78,
          7831.91,
          1896.63,
          1728.47,
          8332.17,
          2136.56,
          6378.81,
          1502.99,
          9494.16,
          7051.56,
          6930.2,
          7996.19,
          7465.86,
          4703.24,
          7171.93,
          4650.42,
          7602.99,
          2464.23,
          7950.11,
          922.76,
          4989.47,
          1047.11,
          1072.38,
          1013.7,
          2752.33,
          1649.68,
          5931.22,
          9661.88,
          8535.13,
          1408.6,
          5452.12,
          1574.81,
          4436.69,
          1881.18,
          3191.64,
          9478.36,
          8267.11,
          4874.34,
          9008.14,
          348.89,
          2196.36,
          6607.39,
          9760.78,
          1610.93,
          2641.71,
          8792.83,
          7947.94,
          6069.25,
          7780.75,
          118.08,
          1029.97,
          2846.54,
          5967.94,
          4724.12,
          1667.44,
          5110.32,
          9607.02,
          4380.96,
          1599.3,
          3527.95,
          2008.19
         ],
         "y0": " ",
         "yaxis": "y"
        }
       ],
       "layout": {
        "autosize": true,
        "boxmode": "group",
        "legend": {
         "tracegroupgap": 0
        },
        "template": {
         "data": {
          "bar": [
           {
            "error_x": {
             "color": "#2a3f5f"
            },
            "error_y": {
             "color": "#2a3f5f"
            },
            "marker": {
             "line": {
              "color": "#E5ECF6",
              "width": 0.5
             },
             "pattern": {
              "fillmode": "overlay",
              "size": 10,
              "solidity": 0.2
             }
            },
            "type": "bar"
           }
          ],
          "barpolar": [
           {
            "marker": {
             "line": {
              "color": "#E5ECF6",
              "width": 0.5
             },
             "pattern": {
              "fillmode": "overlay",
              "size": 10,
              "solidity": 0.2
             }
            },
            "type": "barpolar"
           }
          ],
          "carpet": [
           {
            "aaxis": {
             "endlinecolor": "#2a3f5f",
             "gridcolor": "white",
             "linecolor": "white",
             "minorgridcolor": "white",
             "startlinecolor": "#2a3f5f"
            },
            "baxis": {
             "endlinecolor": "#2a3f5f",
             "gridcolor": "white",
             "linecolor": "white",
             "minorgridcolor": "white",
             "startlinecolor": "#2a3f5f"
            },
            "type": "carpet"
           }
          ],
          "choropleth": [
           {
            "colorbar": {
             "outlinewidth": 0,
             "ticks": ""
            },
            "type": "choropleth"
           }
          ],
          "contour": [
           {
            "colorbar": {
             "outlinewidth": 0,
             "ticks": ""
            },
            "colorscale": [
             [
              0,
              "#0d0887"
             ],
             [
              0.1111111111111111,
              "#46039f"
             ],
             [
              0.2222222222222222,
              "#7201a8"
             ],
             [
              0.3333333333333333,
              "#9c179e"
             ],
             [
              0.4444444444444444,
              "#bd3786"
             ],
             [
              0.5555555555555556,
              "#d8576b"
             ],
             [
              0.6666666666666666,
              "#ed7953"
             ],
             [
              0.7777777777777778,
              "#fb9f3a"
             ],
             [
              0.8888888888888888,
              "#fdca26"
             ],
             [
              1,
              "#f0f921"
             ]
            ],
            "type": "contour"
           }
          ],
          "contourcarpet": [
           {
            "colorbar": {
             "outlinewidth": 0,
             "ticks": ""
            },
            "type": "contourcarpet"
           }
          ],
          "heatmap": [
           {
            "colorbar": {
             "outlinewidth": 0,
             "ticks": ""
            },
            "colorscale": [
             [
              0,
              "#0d0887"
             ],
             [
              0.1111111111111111,
              "#46039f"
             ],
             [
              0.2222222222222222,
              "#7201a8"
             ],
             [
              0.3333333333333333,
              "#9c179e"
             ],
             [
              0.4444444444444444,
              "#bd3786"
             ],
             [
              0.5555555555555556,
              "#d8576b"
             ],
             [
              0.6666666666666666,
              "#ed7953"
             ],
             [
              0.7777777777777778,
              "#fb9f3a"
             ],
             [
              0.8888888888888888,
              "#fdca26"
             ],
             [
              1,
              "#f0f921"
             ]
            ],
            "type": "heatmap"
           }
          ],
          "heatmapgl": [
           {
            "colorbar": {
             "outlinewidth": 0,
             "ticks": ""
            },
            "colorscale": [
             [
              0,
              "#0d0887"
             ],
             [
              0.1111111111111111,
              "#46039f"
             ],
             [
              0.2222222222222222,
              "#7201a8"
             ],
             [
              0.3333333333333333,
              "#9c179e"
             ],
             [
              0.4444444444444444,
              "#bd3786"
             ],
             [
              0.5555555555555556,
              "#d8576b"
             ],
             [
              0.6666666666666666,
              "#ed7953"
             ],
             [
              0.7777777777777778,
              "#fb9f3a"
             ],
             [
              0.8888888888888888,
              "#fdca26"
             ],
             [
              1,
              "#f0f921"
             ]
            ],
            "type": "heatmapgl"
           }
          ],
          "histogram": [
           {
            "marker": {
             "pattern": {
              "fillmode": "overlay",
              "size": 10,
              "solidity": 0.2
             }
            },
            "type": "histogram"
           }
          ],
          "histogram2d": [
           {
            "colorbar": {
             "outlinewidth": 0,
             "ticks": ""
            },
            "colorscale": [
             [
              0,
              "#0d0887"
             ],
             [
              0.1111111111111111,
              "#46039f"
             ],
             [
              0.2222222222222222,
              "#7201a8"
             ],
             [
              0.3333333333333333,
              "#9c179e"
             ],
             [
              0.4444444444444444,
              "#bd3786"
             ],
             [
              0.5555555555555556,
              "#d8576b"
             ],
             [
              0.6666666666666666,
              "#ed7953"
             ],
             [
              0.7777777777777778,
              "#fb9f3a"
             ],
             [
              0.8888888888888888,
              "#fdca26"
             ],
             [
              1,
              "#f0f921"
             ]
            ],
            "type": "histogram2d"
           }
          ],
          "histogram2dcontour": [
           {
            "colorbar": {
             "outlinewidth": 0,
             "ticks": ""
            },
            "colorscale": [
             [
              0,
              "#0d0887"
             ],
             [
              0.1111111111111111,
              "#46039f"
             ],
             [
              0.2222222222222222,
              "#7201a8"
             ],
             [
              0.3333333333333333,
              "#9c179e"
             ],
             [
              0.4444444444444444,
              "#bd3786"
             ],
             [
              0.5555555555555556,
              "#d8576b"
             ],
             [
              0.6666666666666666,
              "#ed7953"
             ],
             [
              0.7777777777777778,
              "#fb9f3a"
             ],
             [
              0.8888888888888888,
              "#fdca26"
             ],
             [
              1,
              "#f0f921"
             ]
            ],
            "type": "histogram2dcontour"
           }
          ],
          "mesh3d": [
           {
            "colorbar": {
             "outlinewidth": 0,
             "ticks": ""
            },
            "type": "mesh3d"
           }
          ],
          "parcoords": [
           {
            "line": {
             "colorbar": {
              "outlinewidth": 0,
              "ticks": ""
             }
            },
            "type": "parcoords"
           }
          ],
          "pie": [
           {
            "automargin": true,
            "type": "pie"
           }
          ],
          "scatter": [
           {
            "fillpattern": {
             "fillmode": "overlay",
             "size": 10,
             "solidity": 0.2
            },
            "type": "scatter"
           }
          ],
          "scatter3d": [
           {
            "line": {
             "colorbar": {
              "outlinewidth": 0,
              "ticks": ""
             }
            },
            "marker": {
             "colorbar": {
              "outlinewidth": 0,
              "ticks": ""
             }
            },
            "type": "scatter3d"
           }
          ],
          "scattercarpet": [
           {
            "marker": {
             "colorbar": {
              "outlinewidth": 0,
              "ticks": ""
             }
            },
            "type": "scattercarpet"
           }
          ],
          "scattergeo": [
           {
            "marker": {
             "colorbar": {
              "outlinewidth": 0,
              "ticks": ""
             }
            },
            "type": "scattergeo"
           }
          ],
          "scattergl": [
           {
            "marker": {
             "colorbar": {
              "outlinewidth": 0,
              "ticks": ""
             }
            },
            "type": "scattergl"
           }
          ],
          "scattermapbox": [
           {
            "marker": {
             "colorbar": {
              "outlinewidth": 0,
              "ticks": ""
             }
            },
            "type": "scattermapbox"
           }
          ],
          "scatterpolar": [
           {
            "marker": {
             "colorbar": {
              "outlinewidth": 0,
              "ticks": ""
             }
            },
            "type": "scatterpolar"
           }
          ],
          "scatterpolargl": [
           {
            "marker": {
             "colorbar": {
              "outlinewidth": 0,
              "ticks": ""
             }
            },
            "type": "scatterpolargl"
           }
          ],
          "scatterternary": [
           {
            "marker": {
             "colorbar": {
              "outlinewidth": 0,
              "ticks": ""
             }
            },
            "type": "scatterternary"
           }
          ],
          "surface": [
           {
            "colorbar": {
             "outlinewidth": 0,
             "ticks": ""
            },
            "colorscale": [
             [
              0,
              "#0d0887"
             ],
             [
              0.1111111111111111,
              "#46039f"
             ],
             [
              0.2222222222222222,
              "#7201a8"
             ],
             [
              0.3333333333333333,
              "#9c179e"
             ],
             [
              0.4444444444444444,
              "#bd3786"
             ],
             [
              0.5555555555555556,
              "#d8576b"
             ],
             [
              0.6666666666666666,
              "#ed7953"
             ],
             [
              0.7777777777777778,
              "#fb9f3a"
             ],
             [
              0.8888888888888888,
              "#fdca26"
             ],
             [
              1,
              "#f0f921"
             ]
            ],
            "type": "surface"
           }
          ],
          "table": [
           {
            "cells": {
             "fill": {
              "color": "#EBF0F8"
             },
             "line": {
              "color": "white"
             }
            },
            "header": {
             "fill": {
              "color": "#C8D4E3"
             },
             "line": {
              "color": "white"
             }
            },
            "type": "table"
           }
          ]
         },
         "layout": {
          "annotationdefaults": {
           "arrowcolor": "#2a3f5f",
           "arrowhead": 0,
           "arrowwidth": 1
          },
          "autotypenumbers": "strict",
          "coloraxis": {
           "colorbar": {
            "outlinewidth": 0,
            "ticks": ""
           }
          },
          "colorscale": {
           "diverging": [
            [
             0,
             "#8e0152"
            ],
            [
             0.1,
             "#c51b7d"
            ],
            [
             0.2,
             "#de77ae"
            ],
            [
             0.3,
             "#f1b6da"
            ],
            [
             0.4,
             "#fde0ef"
            ],
            [
             0.5,
             "#f7f7f7"
            ],
            [
             0.6,
             "#e6f5d0"
            ],
            [
             0.7,
             "#b8e186"
            ],
            [
             0.8,
             "#7fbc41"
            ],
            [
             0.9,
             "#4d9221"
            ],
            [
             1,
             "#276419"
            ]
           ],
           "sequential": [
            [
             0,
             "#0d0887"
            ],
            [
             0.1111111111111111,
             "#46039f"
            ],
            [
             0.2222222222222222,
             "#7201a8"
            ],
            [
             0.3333333333333333,
             "#9c179e"
            ],
            [
             0.4444444444444444,
             "#bd3786"
            ],
            [
             0.5555555555555556,
             "#d8576b"
            ],
            [
             0.6666666666666666,
             "#ed7953"
            ],
            [
             0.7777777777777778,
             "#fb9f3a"
            ],
            [
             0.8888888888888888,
             "#fdca26"
            ],
            [
             1,
             "#f0f921"
            ]
           ],
           "sequentialminus": [
            [
             0,
             "#0d0887"
            ],
            [
             0.1111111111111111,
             "#46039f"
            ],
            [
             0.2222222222222222,
             "#7201a8"
            ],
            [
             0.3333333333333333,
             "#9c179e"
            ],
            [
             0.4444444444444444,
             "#bd3786"
            ],
            [
             0.5555555555555556,
             "#d8576b"
            ],
            [
             0.6666666666666666,
             "#ed7953"
            ],
            [
             0.7777777777777778,
             "#fb9f3a"
            ],
            [
             0.8888888888888888,
             "#fdca26"
            ],
            [
             1,
             "#f0f921"
            ]
           ]
          },
          "colorway": [
           "#636efa",
           "#EF553B",
           "#00cc96",
           "#ab63fa",
           "#FFA15A",
           "#19d3f3",
           "#FF6692",
           "#B6E880",
           "#FF97FF",
           "#FECB52"
          ],
          "font": {
           "color": "#2a3f5f"
          },
          "geo": {
           "bgcolor": "white",
           "lakecolor": "white",
           "landcolor": "#E5ECF6",
           "showlakes": true,
           "showland": true,
           "subunitcolor": "white"
          },
          "hoverlabel": {
           "align": "left"
          },
          "hovermode": "closest",
          "mapbox": {
           "style": "light"
          },
          "paper_bgcolor": "white",
          "plot_bgcolor": "#E5ECF6",
          "polar": {
           "angularaxis": {
            "gridcolor": "white",
            "linecolor": "white",
            "ticks": ""
           },
           "bgcolor": "#E5ECF6",
           "radialaxis": {
            "gridcolor": "white",
            "linecolor": "white",
            "ticks": ""
           }
          },
          "scene": {
           "xaxis": {
            "backgroundcolor": "#E5ECF6",
            "gridcolor": "white",
            "gridwidth": 2,
            "linecolor": "white",
            "showbackground": true,
            "ticks": "",
            "zerolinecolor": "white"
           },
           "yaxis": {
            "backgroundcolor": "#E5ECF6",
            "gridcolor": "white",
            "gridwidth": 2,
            "linecolor": "white",
            "showbackground": true,
            "ticks": "",
            "zerolinecolor": "white"
           },
           "zaxis": {
            "backgroundcolor": "#E5ECF6",
            "gridcolor": "white",
            "gridwidth": 2,
            "linecolor": "white",
            "showbackground": true,
            "ticks": "",
            "zerolinecolor": "white"
           }
          },
          "shapedefaults": {
           "line": {
            "color": "#2a3f5f"
           }
          },
          "ternary": {
           "aaxis": {
            "gridcolor": "white",
            "linecolor": "white",
            "ticks": ""
           },
           "baxis": {
            "gridcolor": "white",
            "linecolor": "white",
            "ticks": ""
           },
           "bgcolor": "#E5ECF6",
           "caxis": {
            "gridcolor": "white",
            "linecolor": "white",
            "ticks": ""
           }
          },
          "title": {
           "x": 0.05
          },
          "xaxis": {
           "automargin": true,
           "gridcolor": "white",
           "linecolor": "white",
           "ticks": "",
           "title": {
            "standoff": 15
           },
           "zerolinecolor": "white",
           "zerolinewidth": 2
          },
          "yaxis": {
           "automargin": true,
           "gridcolor": "white",
           "linecolor": "white",
           "ticks": "",
           "title": {
            "standoff": 15
           },
           "zerolinecolor": "white",
           "zerolinewidth": 2
          }
         }
        },
        "title": {
         "text": "Tenure vs Total Charges"
        },
        "xaxis": {
         "anchor": "y",
         "autorange": true,
         "domain": [
          0,
          1
         ],
         "range": [
          -0.5223880597014925,
          6.5
         ],
         "title": {
          "text": "Tenure_Bins"
         },
         "type": "category"
        },
        "yaxis": {
         "anchor": "x",
         "autorange": true,
         "domain": [
          0,
          1
         ],
         "range": [
          -430.0466666666667,
          10532.486666666668
         ],
         "title": {
          "text": "TotalCharges"
         },
         "type": "linear"
        }
       }
      },
      "image/png": "[encoded data removed]",
      "text/html": [
       "<div>                            <div id=\"f5ff42c6-f50d-4108-96b5-c325eba47a3e\" class=\"plotly-graph-div\" style=\"height:525px; width:100%;\"></div>            <script type=\"text/javascript\">                require([\"plotly\"], function(Plotly) {                    window.PLOTLYENV=window.PLOTLYENV || {};                                    if (document.getElementById(\"f5ff42c6-f50d-4108-96b5-c325eba47a3e\")) {                    Plotly.newPlot(                        \"f5ff42c6-f50d-4108-96b5-c325eba47a3e\",                        [{\"alignmentgroup\":\"True\",\"boxpoints\":\"all\",\"hovertemplate\":\"Tenure_Bins=%{x}\\u003cbr\\u003eTotalCharges=%{y}\\u003cextra\\u003e\\u003c\\u002fextra\\u003e\",\"legendgroup\":\"\",\"marker\":{\"color\":\"#636efa\"},\"name\":\"\",\"notched\":false,\"offsetgroup\":\"\",\"orientation\":\"v\",\"showlegend\":false,\"x\":[\"1-10\",\"21-30\",\"31-40\",\"41-50\",\"61-70\",\"11-20\",\"1-10\",\"61-70\",\"41-50\",\"51-60\",\"11-20\",\"41-50\",\"51-60\",\"21-30\",\"21-30\",\"31-40\",\"31-40\",\"61-70\",\"11-20\",\"41-50\",\"51-60\",\"41-50\",\"21-30\",\"51-60\",\"21-30\",\"41-50\",\"31-40\",\"41-50\",\"31-40\",\"11-20\",\"61-70\",\"21-30\",\"21-30\",\"61-70\",\"1-10\",\"41-50\",\"21-30\",\"21-30\",\"61-70\",\"1-10\",\"21-30\",\"51-60\",\"21-30\",\"61-70\",\"31-40\",\"51-60\",\"31-40\",\"11-20\",\"21-30\",\"31-40\",\"31-40\",\"31-40\",\"61-70\",\"61-70\",\"61-70\",\"61-70\",\"51-60\",\"1-10\",\"41-50\",\"61-70\",\"41-50\",\"21-30\",\"41-50\",\"21-30\",\"21-30\",\"51-60\",\"31-40\",\"41-50\",\"31-40\",\"31-40\",\"51-60\",\"51-60\",\"31-40\",\"21-30\",\"61-70\",\"11-20\",\"41-50\",\"21-30\",\"51-60\",\"21-30\",\"41-50\",\"21-30\",\"51-60\",\"61-70\",\"21-30\",\"1-10\",\"1-10\",\"11-20\",\"1-10\",\"41-50\",\"21-30\",\"21-30\",\"11-20\",\"1-10\",\"1-10\",\"21-30\",\"41-50\",\"31-40\",\"61-70\",\"41-50\",\"61-70\",\"61-70\",\"61-70\",\"21-30\",\"1-10\",\"11-20\",\"41-50\",\"11-20\",\"41-50\",\"51-60\",\"1-10\",\"1-10\",\"31-40\",\"51-60\",\"61-70\",\"1-10\",\"1-10\",\"1-10\",\"51-60\",\"51-60\",\"1-10\",\"41-50\",\"31-40\",\"31-40\",\"1-10\",\"21-30\",\"1-10\",\"61-70\",\"11-20\",\"31-40\",\"51-60\",\"31-40\",\"41-50\",\"51-60\",\"21-30\",\"31-40\",\"1-10\",\"11-20\",\"51-60\",\"1-10\",\"61-70\",\"51-60\",\"21-30\",\"31-40\",\"1-10\",\"51-60\",\"61-70\",\"21-30\",\"61-70\",\"11-20\",\"51-60\",\"31-40\",\"11-20\",\"21-30\",\"51-60\",\"21-30\",\"21-30\",\"61-70\",\"31-40\",\"41-50\",\"41-50\",\"31-40\",\"41-50\",\"1-10\",\"11-20\",\"41-50\",\"1-10\",\"41-50\",\"1-10\",\"51-60\",\"61-70\",\"51-60\",\"1-10\",\"41-50\",\"61-70\",\"51-60\",\"1-10\",\"31-40\",\"31-40\",\"1-10\",\"1-10\",\"41-50\",\"1-10\",\"11-20\",\"51-60\",\"41-50\",\"51-60\",\"21-30\",\"11-20\",\"51-60\",\"21-30\",\"1-10\",\"61-70\",\"41-50\",\"1-10\",\"61-70\",\"61-70\",\"1-10\",\"41-50\",\"31-40\"],\"x0\":\" \",\"xaxis\":\"x\",\"y\":[2950.41,7460.55,3064.73,2612.22,4833.99,8490.43,4044.35,3617.55,1791.08,6116.27,1223.44,7122.12,9516.33,9513.28,7881.34,6593.67,883.69,7620.91,5173.58,5248.77,1741.72,2426.6,9473.08,1355.51,669.76,8047.19,1374.32,4435.52,7790.86,4505.9,5484.45,6065.51,3739.63,9413.94,4391.15,5828.47,9984.36,2296.08,462.62,6207.76,3774.89,8849.61,5744.78,1912.24,9430.39,735.46,3519.4,2414.74,1428.14,2720.94,6517.85,3291.2,9818.6,3163.5,2786.58,5417.01,4317.17,6606.19,288.82,7361.22,2359.42,5468.76,2755.58,2187.57,5408.73,7233.28,7993.77,8559.7,4263.83,4700.6,8976.89,2546.98,7666.13,6805.56,8292.13,6746.94,4652.23,1791.83,1775.09,9683.2,3943.86,7816.83,8433.05,2817.07,7853.25,7915.43,5053.16,7556.19,2547.27,3878.65,7596.25,1877.8,6180.41,9920.54,4347.48,756.34,3642.31,3255.19,7271.57,9059.2,7218.53,813.2,4496.87,3557.26,6878.63,2855.44,6716.31,6856.14,6492.98,3458.47,8352.36,8164.03,8193.46,7812.97,4256.13,5224.44,9177.48,7045.18,8123.72,5349.28,1701.34,9004.15,5683.82,1815.36,7728.48,3364.54,2256.29,2934.17,2195.76,7617.29,1469.22,6107.18,3751.68,5286.52,3117.08,1100.89,9200.66,8596.12,2331.44,1968.78,7831.91,1896.63,1728.47,8332.17,2136.56,6378.81,1502.99,9494.16,7051.56,6930.2,7996.19,7465.86,4703.24,7171.93,4650.42,7602.99,2464.23,7950.11,922.76,4989.47,1047.11,1072.38,1013.7,2752.33,1649.68,5931.22,9661.88,8535.13,1408.6,5452.12,1574.81,4436.69,1881.18,3191.64,9478.36,8267.11,4874.34,9008.14,348.89,2196.36,6607.39,9760.78,1610.93,2641.71,8792.83,7947.94,6069.25,7780.75,118.08,1029.97,2846.54,5967.94,4724.12,1667.44,5110.32,9607.02,4380.96,1599.3,3527.95,2008.19],\"y0\":\" \",\"yaxis\":\"y\",\"type\":\"box\"}],                        {\"template\":{\"data\":{\"histogram2dcontour\":[{\"type\":\"histogram2dcontour\",\"colorbar\":{\"outlinewidth\":0,\"ticks\":\"\"},\"colorscale\":[[0.0,\"#0d0887\"],[0.1111111111111111,\"#46039f\"],[0.2222222222222222,\"#7201a8\"],[0.3333333333333333,\"#9c179e\"],[0.4444444444444444,\"#bd3786\"],[0.5555555555555556,\"#d8576b\"],[0.6666666666666666,\"#ed7953\"],[0.7777777777777778,\"#fb9f3a\"],[0.8888888888888888,\"#fdca26\"],[1.0,\"#f0f921\"]]}],\"choropleth\":[{\"type\":\"choropleth\",\"colorbar\":{\"outlinewidth\":0,\"ticks\":\"\"}}],\"histogram2d\":[{\"type\":\"histogram2d\",\"colorbar\":{\"outlinewidth\":0,\"ticks\":\"\"},\"colorscale\":[[0.0,\"#0d0887\"],[0.1111111111111111,\"#46039f\"],[0.2222222222222222,\"#7201a8\"],[0.3333333333333333,\"#9c179e\"],[0.4444444444444444,\"#bd3786\"],[0.5555555555555556,\"#d8576b\"],[0.6666666666666666,\"#ed7953\"],[0.7777777777777778,\"#fb9f3a\"],[0.8888888888888888,\"#fdca26\"],[1.0,\"#f0f921\"]]}],\"heatmap\":[{\"type\":\"heatmap\",\"colorbar\":{\"outlinewidth\":0,\"ticks\":\"\"},\"colorscale\":[[0.0,\"#0d0887\"],[0.1111111111111111,\"#46039f\"],[0.2222222222222222,\"#7201a8\"],[0.3333333333333333,\"#9c179e\"],[0.4444444444444444,\"#bd3786\"],[0.5555555555555556,\"#d8576b\"],[0.6666666666666666,\"#ed7953\"],[0.7777777777777778,\"#fb9f3a\"],[0.8888888888888888,\"#fdca26\"],[1.0,\"#f0f921\"]]}],\"heatmapgl\":[{\"type\":\"heatmapgl\",\"colorbar\":{\"outlinewidth\":0,\"ticks\":\"\"},\"colorscale\":[[0.0,\"#0d0887\"],[0.1111111111111111,\"#46039f\"],[0.2222222222222222,\"#7201a8\"],[0.3333333333333333,\"#9c179e\"],[0.4444444444444444,\"#bd3786\"],[0.5555555555555556,\"#d8576b\"],[0.6666666666666666,\"#ed7953\"],[0.7777777777777778,\"#fb9f3a\"],[0.8888888888888888,\"#fdca26\"],[1.0,\"#f0f921\"]]}],\"contourcarpet\":[{\"type\":\"contourcarpet\",\"colorbar\":{\"outlinewidth\":0,\"ticks\":\"\"}}],\"contour\":[{\"type\":\"contour\",\"colorbar\":{\"outlinewidth\":0,\"ticks\":\"\"},\"colorscale\":[[0.0,\"#0d0887\"],[0.1111111111111111,\"#46039f\"],[0.2222222222222222,\"#7201a8\"],[0.3333333333333333,\"#9c179e\"],[0.4444444444444444,\"#bd3786\"],[0.5555555555555556,\"#d8576b\"],[0.6666666666666666,\"#ed7953\"],[0.7777777777777778,\"#fb9f3a\"],[0.8888888888888888,\"#fdca26\"],[1.0,\"#f0f921\"]]}],\"surface\":[{\"type\":\"surface\",\"colorbar\":{\"outlinewidth\":0,\"ticks\":\"\"},\"colorscale\":[[0.0,\"#0d0887\"],[0.1111111111111111,\"#46039f\"],[0.2222222222222222,\"#7201a8\"],[0.3333333333333333,\"#9c179e\"],[0.4444444444444444,\"#bd3786\"],[0.5555555555555556,\"#d8576b\"],[0.6666666666666666,\"#ed7953\"],[0.7777777777777778,\"#fb9f3a\"],[0.8888888888888888,\"#fdca26\"],[1.0,\"#f0f921\"]]}],\"mesh3d\":[{\"type\":\"mesh3d\",\"colorbar\":{\"outlinewidth\":0,\"ticks\":\"\"}}],\"scatter\":[{\"fillpattern\":{\"fillmode\":\"overlay\",\"size\":10,\"solidity\":0.2},\"type\":\"scatter\"}],\"parcoords\":[{\"type\":\"parcoords\",\"line\":{\"colorbar\":{\"outlinewidth\":0,\"ticks\":\"\"}}}],\"scatterpolargl\":[{\"type\":\"scatterpolargl\",\"marker\":{\"colorbar\":{\"outlinewidth\":0,\"ticks\":\"\"}}}],\"bar\":[{\"error_x\":{\"color\":\"#2a3f5f\"},\"error_y\":{\"color\":\"#2a3f5f\"},\"marker\":{\"line\":{\"color\":\"#E5ECF6\",\"width\":0.5},\"pattern\":{\"fillmode\":\"overlay\",\"size\":10,\"solidity\":0.2}},\"type\":\"bar\"}],\"scattergeo\":[{\"type\":\"scattergeo\",\"marker\":{\"colorbar\":{\"outlinewidth\":0,\"ticks\":\"\"}}}],\"scatterpolar\":[{\"type\":\"scatterpolar\",\"marker\":{\"colorbar\":{\"outlinewidth\":0,\"ticks\":\"\"}}}],\"histogram\":[{\"marker\":{\"pattern\":{\"fillmode\":\"overlay\",\"size\":10,\"solidity\":0.2}},\"type\":\"histogram\"}],\"scattergl\":[{\"type\":\"scattergl\",\"marker\":{\"colorbar\":{\"outlinewidth\":0,\"ticks\":\"\"}}}],\"scatter3d\":[{\"type\":\"scatter3d\",\"line\":{\"colorbar\":{\"outlinewidth\":0,\"ticks\":\"\"}},\"marker\":{\"colorbar\":{\"outlinewidth\":0,\"ticks\":\"\"}}}],\"scattermapbox\":[{\"type\":\"scattermapbox\",\"marker\":{\"colorbar\":{\"outlinewidth\":0,\"ticks\":\"\"}}}],\"scatterternary\":[{\"type\":\"scatterternary\",\"marker\":{\"colorbar\":{\"outlinewidth\":0,\"ticks\":\"\"}}}],\"scattercarpet\":[{\"type\":\"scattercarpet\",\"marker\":{\"colorbar\":{\"outlinewidth\":0,\"ticks\":\"\"}}}],\"carpet\":[{\"aaxis\":{\"endlinecolor\":\"#2a3f5f\",\"gridcolor\":\"white\",\"linecolor\":\"white\",\"minorgridcolor\":\"white\",\"startlinecolor\":\"#2a3f5f\"},\"baxis\":{\"endlinecolor\":\"#2a3f5f\",\"gridcolor\":\"white\",\"linecolor\":\"white\",\"minorgridcolor\":\"white\",\"startlinecolor\":\"#2a3f5f\"},\"type\":\"carpet\"}],\"table\":[{\"cells\":{\"fill\":{\"color\":\"#EBF0F8\"},\"line\":{\"color\":\"white\"}},\"header\":{\"fill\":{\"color\":\"#C8D4E3\"},\"line\":{\"color\":\"white\"}},\"type\":\"table\"}],\"barpolar\":[{\"marker\":{\"line\":{\"color\":\"#E5ECF6\",\"width\":0.5},\"pattern\":{\"fillmode\":\"overlay\",\"size\":10,\"solidity\":0.2}},\"type\":\"barpolar\"}],\"pie\":[{\"automargin\":true,\"type\":\"pie\"}]},\"layout\":{\"autotypenumbers\":\"strict\",\"colorway\":[\"#636efa\",\"#EF553B\",\"#00cc96\",\"#ab63fa\",\"#FFA15A\",\"#19d3f3\",\"#FF6692\",\"#B6E880\",\"#FF97FF\",\"#FECB52\"],\"font\":{\"color\":\"#2a3f5f\"},\"hovermode\":\"closest\",\"hoverlabel\":{\"align\":\"left\"},\"paper_bgcolor\":\"white\",\"plot_bgcolor\":\"#E5ECF6\",\"polar\":{\"bgcolor\":\"#E5ECF6\",\"angularaxis\":{\"gridcolor\":\"white\",\"linecolor\":\"white\",\"ticks\":\"\"},\"radialaxis\":{\"gridcolor\":\"white\",\"linecolor\":\"white\",\"ticks\":\"\"}},\"ternary\":{\"bgcolor\":\"#E5ECF6\",\"aaxis\":{\"gridcolor\":\"white\",\"linecolor\":\"white\",\"ticks\":\"\"},\"baxis\":{\"gridcolor\":\"white\",\"linecolor\":\"white\",\"ticks\":\"\"},\"caxis\":{\"gridcolor\":\"white\",\"linecolor\":\"white\",\"ticks\":\"\"}},\"coloraxis\":{\"colorbar\":{\"outlinewidth\":0,\"ticks\":\"\"}},\"colorscale\":{\"sequential\":[[0.0,\"#0d0887\"],[0.1111111111111111,\"#46039f\"],[0.2222222222222222,\"#7201a8\"],[0.3333333333333333,\"#9c179e\"],[0.4444444444444444,\"#bd3786\"],[0.5555555555555556,\"#d8576b\"],[0.6666666666666666,\"#ed7953\"],[0.7777777777777778,\"#fb9f3a\"],[0.8888888888888888,\"#fdca26\"],[1.0,\"#f0f921\"]],\"sequentialminus\":[[0.0,\"#0d0887\"],[0.1111111111111111,\"#46039f\"],[0.2222222222222222,\"#7201a8\"],[0.3333333333333333,\"#9c179e\"],[0.4444444444444444,\"#bd3786\"],[0.5555555555555556,\"#d8576b\"],[0.6666666666666666,\"#ed7953\"],[0.7777777777777778,\"#fb9f3a\"],[0.8888888888888888,\"#fdca26\"],[1.0,\"#f0f921\"]],\"diverging\":[[0,\"#8e0152\"],[0.1,\"#c51b7d\"],[0.2,\"#de77ae\"],[0.3,\"#f1b6da\"],[0.4,\"#fde0ef\"],[0.5,\"#f7f7f7\"],[0.6,\"#e6f5d0\"],[0.7,\"#b8e186\"],[0.8,\"#7fbc41\"],[0.9,\"#4d9221\"],[1,\"#276419\"]]},\"xaxis\":{\"gridcolor\":\"white\",\"linecolor\":\"white\",\"ticks\":\"\",\"title\":{\"standoff\":15},\"zerolinecolor\":\"white\",\"automargin\":true,\"zerolinewidth\":2},\"yaxis\":{\"gridcolor\":\"white\",\"linecolor\":\"white\",\"ticks\":\"\",\"title\":{\"standoff\":15},\"zerolinecolor\":\"white\",\"automargin\":true,\"zerolinewidth\":2},\"scene\":{\"xaxis\":{\"backgroundcolor\":\"#E5ECF6\",\"gridcolor\":\"white\",\"linecolor\":\"white\",\"showbackground\":true,\"ticks\":\"\",\"zerolinecolor\":\"white\",\"gridwidth\":2},\"yaxis\":{\"backgroundcolor\":\"#E5ECF6\",\"gridcolor\":\"white\",\"linecolor\":\"white\",\"showbackground\":true,\"ticks\":\"\",\"zerolinecolor\":\"white\",\"gridwidth\":2},\"zaxis\":{\"backgroundcolor\":\"#E5ECF6\",\"gridcolor\":\"white\",\"linecolor\":\"white\",\"showbackground\":true,\"ticks\":\"\",\"zerolinecolor\":\"white\",\"gridwidth\":2}},\"shapedefaults\":{\"line\":{\"color\":\"#2a3f5f\"}},\"annotationdefaults\":{\"arrowcolor\":\"#2a3f5f\",\"arrowhead\":0,\"arrowwidth\":1},\"geo\":{\"bgcolor\":\"white\",\"landcolor\":\"#E5ECF6\",\"subunitcolor\":\"white\",\"showland\":true,\"showlakes\":true,\"lakecolor\":\"white\"},\"title\":{\"x\":0.05},\"mapbox\":{\"style\":\"light\"}}},\"xaxis\":{\"anchor\":\"y\",\"domain\":[0.0,1.0],\"title\":{\"text\":\"Tenure_Bins\"}},\"yaxis\":{\"anchor\":\"x\",\"domain\":[0.0,1.0],\"title\":{\"text\":\"TotalCharges\"}},\"legend\":{\"tracegroupgap\":0},\"title\":{\"text\":\"Tenure vs Total Charges\"},\"boxmode\":\"group\"},                        {\"responsive\": true}                    ).then(function(){\n",
       "                            \n",
       "var gd = document.getElementById('f5ff42c6-f50d-4108-96b5-c325eba47a3e');\n",
       "var x = new MutationObserver(function (mutations, observer) {{\n",
       "        var display = window.getComputedStyle(gd).display;\n",
       "        if (!display || display === 'none') {{\n",
       "            console.log([gd, 'removed!']);\n",
       "            Plotly.purge(gd);\n",
       "            observer.disconnect();\n",
       "        }}\n",
       "}});\n",
       "\n",
       "// Listen for the removal of the full notebook cells\n",
       "var notebookContainer = gd.closest('#notebook-container');\n",
       "if (notebookContainer) {{\n",
       "    x.observe(notebookContainer, {childList: true});\n",
       "}}\n",
       "\n",
       "// Listen for the clearing of the current output cell\n",
       "var outputEl = gd.closest('.output');\n",
       "if (outputEl) {{\n",
       "    x.observe(outputEl, {childList: true});\n",
       "}}\n",
       "\n",
       "                        })                };                });            </script>        </div>"
      ]
     },
     "metadata": {},
     "output_type": "display_data"
    }
   ],
   "source": [
    "# Tenure vs Total Charge\n",
    "import plotly.express as px\n",
    "df['Tenure_Bins'] = pd.cut(df['Tenure'], bins=[0, 10, 20, 30, 40, 50, 60, 70], labels=['1-10', '11-20', '21-30', '31-40', '41-50', '51-60', '61-70'])\n",
    "fig = px.box(df, x=\"Tenure_Bins\", y=\"TotalCharges\", points=\"all\", title=\"Tenure vs Total Charges\")\n",
    "fig.show()"
   ]
  },
  {
   "cell_type": "code",
   "execution_count": 226,
   "id": "65a95c04-441e-4bc7-bf38-a2e16233a109",
   "metadata": {},
   "outputs": [],
   "source": [
    "df=df.drop(columns=[\"Tenure_Bins\"])"
   ]
  },
  {
   "cell_type": "markdown",
   "id": "dc5dca1d-5cab-40e2-8459-536d04c8aa99",
   "metadata": {},
   "source": [
    "# Feature Engineering"
   ]
  },
  {
   "cell_type": "code",
   "execution_count": 227,
   "id": "0b9061c1-a5e6-46d1-b396-c2818d547644",
   "metadata": {},
   "outputs": [],
   "source": [
    "from sklearn.preprocessing import StandardScaler, OneHotEncoder, LabelEncoder\n",
    "from sklearn.compose import ColumnTransformer\n",
    "from sklearn.pipeline import Pipeline"
   ]
  },
  {
   "cell_type": "code",
   "execution_count": 228,
   "id": "b957b4ea-3790-4d9c-a0fd-7e58e939b956",
   "metadata": {},
   "outputs": [],
   "source": [
    "df['AvgSpendPerMonth'] = df['TotalCharges'] / (df['Tenure'] + 1)"
   ]
  },
  {
   "cell_type": "code",
   "execution_count": 229,
   "id": "e3fb31c7-2e6d-4d1e-a17c-c17e5e77db1f",
   "metadata": {},
   "outputs": [],
   "source": [
    "le = LabelEncoder()\n",
    "df[\"Gender\"] = le.fit_transform(df[\"Gender\"])  # Male: 1, Female: 0\n",
    "df[\"Churn\"] = le.fit_transform(df[\"Churn\"])    # Yes: 1, No: 0"
   ]
  },
  {
   "cell_type": "code",
   "execution_count": 230,
   "id": "91434ea0-4ce2-431d-a365-3ba2d69635cc",
   "metadata": {},
   "outputs": [],
   "source": [
    "#One hot encoding for \"PaymentMethod\" Column\n",
    "df = pd.get_dummies(df, columns=[\"PaymentMethod\"], drop_first=True)"
   ]
  },
  {
   "cell_type": "code",
   "execution_count": 231,
   "id": "538dabd3-2b66-452c-97f5-bd41070d10e3",
   "metadata": {},
   "outputs": [],
   "source": [
    "num_cols = [\"Age\", \"Tenure\", \"MonthlyCharges\", \"TotalCharges\", \n",
    "            \"ServiceUsage1\", \"ServiceUsage2\", \"ServiceUsage3\", \n",
    "            \"AvgSpendPerMonth\"]"
   ]
  },
  {
   "cell_type": "code",
   "execution_count": 232,
   "id": "f109240f-608d-46d5-98ab-25ad7a17b196",
   "metadata": {},
   "outputs": [],
   "source": [
    "scaler = StandardScaler()\n",
    "df[num_cols] = scaler.fit_transform(df[num_cols])"
   ]
  },
  {
   "cell_type": "code",
   "execution_count": 233,
   "id": "7979cd47-26ea-4933-9a04-f5a853d81264",
   "metadata": {},
   "outputs": [
    {
     "data": {
      "text/html": [
       "<div>\n",
       "<style scoped>\n",
       "    .dataframe tbody tr th:only-of-type {\n",
       "        vertical-align: middle;\n",
       "    }\n",
       "\n",
       "    .dataframe tbody tr th {\n",
       "        vertical-align: top;\n",
       "    }\n",
       "\n",
       "    .dataframe thead th {\n",
       "        text-align: right;\n",
       "    }\n",
       "</style>\n",
       "<table border=\"1\" class=\"dataframe\">\n",
       "  <thead>\n",
       "    <tr style=\"text-align: right;\">\n",
       "      <th></th>\n",
       "      <th>CustomerID</th>\n",
       "      <th>Gender</th>\n",
       "      <th>Age</th>\n",
       "      <th>Tenure</th>\n",
       "      <th>MonthlyCharges</th>\n",
       "      <th>TotalCharges</th>\n",
       "      <th>Churn</th>\n",
       "      <th>ServiceUsage1</th>\n",
       "      <th>ServiceUsage2</th>\n",
       "      <th>ServiceUsage3</th>\n",
       "      <th>AvgSpendPerMonth</th>\n",
       "      <th>PaymentMethod_Cash</th>\n",
       "      <th>PaymentMethod_Credit Card</th>\n",
       "      <th>PaymentMethod_PayPal</th>\n",
       "    </tr>\n",
       "  </thead>\n",
       "  <tbody>\n",
       "    <tr>\n",
       "      <th>0</th>\n",
       "      <td>CUST0001</td>\n",
       "      <td>1</td>\n",
       "      <td>-1.484979</td>\n",
       "      <td>-1.527311</td>\n",
       "      <td>-0.546301</td>\n",
       "      <td>-0.747861</td>\n",
       "      <td>1</td>\n",
       "      <td>0.303786</td>\n",
       "      <td>-0.325171</td>\n",
       "      <td>-0.761761</td>\n",
       "      <td>0.455930</td>\n",
       "      <td>False</td>\n",
       "      <td>True</td>\n",
       "      <td>False</td>\n",
       "    </tr>\n",
       "    <tr>\n",
       "      <th>1</th>\n",
       "      <td>CUST0002</td>\n",
       "      <td>0</td>\n",
       "      <td>-1.153659</td>\n",
       "      <td>-0.638909</td>\n",
       "      <td>0.951290</td>\n",
       "      <td>0.865549</td>\n",
       "      <td>0</td>\n",
       "      <td>-0.289819</td>\n",
       "      <td>1.129268</td>\n",
       "      <td>0.499204</td>\n",
       "      <td>0.054993</td>\n",
       "      <td>False</td>\n",
       "      <td>False</td>\n",
       "      <td>False</td>\n",
       "    </tr>\n",
       "    <tr>\n",
       "      <th>2</th>\n",
       "      <td>CUST0003</td>\n",
       "      <td>0</td>\n",
       "      <td>-1.153659</td>\n",
       "      <td>0.150782</td>\n",
       "      <td>-0.364158</td>\n",
       "      <td>-0.706965</td>\n",
       "      <td>0</td>\n",
       "      <td>0.513293</td>\n",
       "      <td>-1.710351</td>\n",
       "      <td>1.000136</td>\n",
       "      <td>-0.464220</td>\n",
       "      <td>False</td>\n",
       "      <td>False</td>\n",
       "      <td>False</td>\n",
       "    </tr>\n",
       "    <tr>\n",
       "      <th>3</th>\n",
       "      <td>CUST0004</td>\n",
       "      <td>1</td>\n",
       "      <td>0.900530</td>\n",
       "      <td>0.545627</td>\n",
       "      <td>1.663473</td>\n",
       "      <td>-0.868841</td>\n",
       "      <td>0</td>\n",
       "      <td>0.478375</td>\n",
       "      <td>1.060009</td>\n",
       "      <td>1.069230</td>\n",
       "      <td>-0.513422</td>\n",
       "      <td>True</td>\n",
       "      <td>False</td>\n",
       "      <td>False</td>\n",
       "    </tr>\n",
       "    <tr>\n",
       "      <th>4</th>\n",
       "      <td>CUST0005</td>\n",
       "      <td>0</td>\n",
       "      <td>-0.623546</td>\n",
       "      <td>1.631452</td>\n",
       "      <td>0.146319</td>\n",
       "      <td>-0.074049</td>\n",
       "      <td>0</td>\n",
       "      <td>0.408539</td>\n",
       "      <td>-1.641092</td>\n",
       "      <td>-0.917223</td>\n",
       "      <td>-0.480980</td>\n",
       "      <td>True</td>\n",
       "      <td>False</td>\n",
       "      <td>False</td>\n",
       "    </tr>\n",
       "  </tbody>\n",
       "</table>\n",
       "</div>"
      ],
      "text/plain": [
       "  CustomerID  Gender       Age    Tenure  MonthlyCharges  TotalCharges  Churn  \\\n",
       "0   CUST0001       1 -1.484979 -1.527311       -0.546301     -0.747861      1   \n",
       "1   CUST0002       0 -1.153659 -0.638909        0.951290      0.865549      0   \n",
       "2   CUST0003       0 -1.153659  0.150782       -0.364158     -0.706965      0   \n",
       "3   CUST0004       1  0.900530  0.545627        1.663473     -0.868841      0   \n",
       "4   CUST0005       0 -0.623546  1.631452        0.146319     -0.074049      0   \n",
       "\n",
       "   ServiceUsage1  ServiceUsage2  ServiceUsage3  AvgSpendPerMonth  \\\n",
       "0       0.303786      -0.325171      -0.761761          0.455930   \n",
       "1      -0.289819       1.129268       0.499204          0.054993   \n",
       "2       0.513293      -1.710351       1.000136         -0.464220   \n",
       "3       0.478375       1.060009       1.069230         -0.513422   \n",
       "4       0.408539      -1.641092      -0.917223         -0.480980   \n",
       "\n",
       "   PaymentMethod_Cash  PaymentMethod_Credit Card  PaymentMethod_PayPal  \n",
       "0               False                       True                 False  \n",
       "1               False                      False                 False  \n",
       "2               False                      False                 False  \n",
       "3                True                      False                 False  \n",
       "4                True                      False                 False  "
      ]
     },
     "execution_count": 233,
     "metadata": {},
     "output_type": "execute_result"
    }
   ],
   "source": [
    "df.head()"
   ]
  },
  {
   "cell_type": "code",
   "execution_count": 234,
   "id": "f1534989-34be-4585-a647-99bc924c8569",
   "metadata": {},
   "outputs": [],
   "source": [
    "X= df.drop(columns=[\"CustomerID\", \"Churn\"])  # Drop irrelevant columns\n",
    "y = df[\"Churn\"]"
   ]
  },
  {
   "cell_type": "markdown",
   "id": "26b2060e-6ba8-4296-8606-0ff171fb0fc0",
   "metadata": {},
   "source": [
    "# Predective Modeling"
   ]
  },
  {
   "cell_type": "code",
   "execution_count": 235,
   "id": "572acf71-8ca2-499e-a50a-88ead67b5b8b",
   "metadata": {},
   "outputs": [],
   "source": [
    "from sklearn.model_selection import train_test_split, cross_val_score\n",
    "from sklearn.model_selection import GridSearchCV\n",
    "from sklearn.linear_model import LogisticRegression\n",
    "from sklearn.tree import DecisionTreeClassifier\n",
    "from sklearn.ensemble import RandomForestClassifier\n",
    "from sklearn.svm import SVC\n",
    "from sklearn.ensemble import GradientBoostingClassifier\n",
    "from sklearn.metrics import classification_report, confusion_matrix, roc_auc_score, accuracy_score"
   ]
  },
  {
   "cell_type": "code",
   "execution_count": 236,
   "id": "8793e59e-d5d3-48c1-809e-95d7035b441c",
   "metadata": {},
   "outputs": [],
   "source": [
    "X_train, X_test, y_train, y_test = train_test_split(X, y, test_size=0.2, random_state=42)   "
   ]
  },
  {
   "cell_type": "code",
   "execution_count": 237,
   "id": "4e33a168-b8d8-4c2e-8c25-aec07ba9daa7",
   "metadata": {},
   "outputs": [
    {
     "name": "stdout",
     "output_type": "stream",
     "text": [
      "Training set size: (160, 12)\n",
      "Test set size: (40, 12)\n"
     ]
    }
   ],
   "source": [
    "print(f\"Training set size: {X_train.shape}\")\n",
    "print(f\"Test set size: {X_test.shape}\")"
   ]
  },
  {
   "cell_type": "code",
   "execution_count": 238,
   "id": "ca1cec34-84c2-467b-afed-455544df467a",
   "metadata": {},
   "outputs": [
    {
     "name": "stdout",
     "output_type": "stream",
     "text": [
      "Churn distribution in Training Set:\n",
      "Churn\n",
      "0    0.79375\n",
      "1    0.20625\n",
      "Name: proportion, dtype: float64\n"
     ]
    }
   ],
   "source": [
    "print(\"Churn distribution in Training Set:\")\n",
    "print(y_train.value_counts(normalize=True))"
   ]
  },
  {
   "cell_type": "code",
   "execution_count": 239,
   "id": "ebeeba3a-8f44-4b54-b6f1-1989ae0999dc",
   "metadata": {},
   "outputs": [
    {
     "name": "stdout",
     "output_type": "stream",
     "text": [
      "Churn distribution in Test Set:\n",
      "Churn\n",
      "0    0.775\n",
      "1    0.225\n",
      "Name: proportion, dtype: float64\n"
     ]
    }
   ],
   "source": [
    "print(\"Churn distribution in Test Set:\")\n",
    "print(y_test.value_counts(normalize=True))"
   ]
  },
  {
   "cell_type": "code",
   "execution_count": 240,
   "id": "2247d950-77d3-4915-b76e-1a292cbf17c7",
   "metadata": {},
   "outputs": [],
   "source": [
    "logistic_model = LogisticRegression(random_state=42)\n",
    "decision_tree_model = DecisionTreeClassifier(random_state=42)\n",
    "random_forest_model = RandomForestClassifier(random_state=42)\n",
    "Support_Vector_Machine= SVC(probability=True, random_state=42)"
   ]
  },
  {
   "cell_type": "code",
   "execution_count": 241,
   "id": "1a03cd82-ddb9-4993-b92f-374716907423",
   "metadata": {},
   "outputs": [
    {
     "data": {
      "text/html": [
       "<style>#sk-container-id-8 {\n",
       "  /* Definition of color scheme common for light and dark mode */\n",
       "  --sklearn-color-text: black;\n",
       "  --sklearn-color-line: gray;\n",
       "  /* Definition of color scheme for unfitted estimators */\n",
       "  --sklearn-color-unfitted-level-0: #fff5e6;\n",
       "  --sklearn-color-unfitted-level-1: #f6e4d2;\n",
       "  --sklearn-color-unfitted-level-2: #ffe0b3;\n",
       "  --sklearn-color-unfitted-level-3: chocolate;\n",
       "  /* Definition of color scheme for fitted estimators */\n",
       "  --sklearn-color-fitted-level-0: #f0f8ff;\n",
       "  --sklearn-color-fitted-level-1: #d4ebff;\n",
       "  --sklearn-color-fitted-level-2: #b3dbfd;\n",
       "  --sklearn-color-fitted-level-3: cornflowerblue;\n",
       "\n",
       "  /* Specific color for light theme */\n",
       "  --sklearn-color-text-on-default-background: var(--sg-text-color, var(--theme-code-foreground, var(--jp-content-font-color1, black)));\n",
       "  --sklearn-color-background: var(--sg-background-color, var(--theme-background, var(--jp-layout-color0, white)));\n",
       "  --sklearn-color-border-box: var(--sg-text-color, var(--theme-code-foreground, var(--jp-content-font-color1, black)));\n",
       "  --sklearn-color-icon: #696969;\n",
       "\n",
       "  @media (prefers-color-scheme: dark) {\n",
       "    /* Redefinition of color scheme for dark theme */\n",
       "    --sklearn-color-text-on-default-background: var(--sg-text-color, var(--theme-code-foreground, var(--jp-content-font-color1, white)));\n",
       "    --sklearn-color-background: var(--sg-background-color, var(--theme-background, var(--jp-layout-color0, #111)));\n",
       "    --sklearn-color-border-box: var(--sg-text-color, var(--theme-code-foreground, var(--jp-content-font-color1, white)));\n",
       "    --sklearn-color-icon: #878787;\n",
       "  }\n",
       "}\n",
       "\n",
       "#sk-container-id-8 {\n",
       "  color: var(--sklearn-color-text);\n",
       "}\n",
       "\n",
       "#sk-container-id-8 pre {\n",
       "  padding: 0;\n",
       "}\n",
       "\n",
       "#sk-container-id-8 input.sk-hidden--visually {\n",
       "  border: 0;\n",
       "  clip: rect(1px 1px 1px 1px);\n",
       "  clip: rect(1px, 1px, 1px, 1px);\n",
       "  height: 1px;\n",
       "  margin: -1px;\n",
       "  overflow: hidden;\n",
       "  padding: 0;\n",
       "  position: absolute;\n",
       "  width: 1px;\n",
       "}\n",
       "\n",
       "#sk-container-id-8 div.sk-dashed-wrapped {\n",
       "  border: 1px dashed var(--sklearn-color-line);\n",
       "  margin: 0 0.4em 0.5em 0.4em;\n",
       "  box-sizing: border-box;\n",
       "  padding-bottom: 0.4em;\n",
       "  background-color: var(--sklearn-color-background);\n",
       "}\n",
       "\n",
       "#sk-container-id-8 div.sk-container {\n",
       "  /* jupyter's `normalize.less` sets `[hidden] { display: none; }`\n",
       "     but bootstrap.min.css set `[hidden] { display: none !important; }`\n",
       "     so we also need the `!important` here to be able to override the\n",
       "     default hidden behavior on the sphinx rendered scikit-learn.org.\n",
       "     See: https://github.com/scikit-learn/scikit-learn/issues/21755 */\n",
       "  display: inline-block !important;\n",
       "  position: relative;\n",
       "}\n",
       "\n",
       "#sk-container-id-8 div.sk-text-repr-fallback {\n",
       "  display: none;\n",
       "}\n",
       "\n",
       "div.sk-parallel-item,\n",
       "div.sk-serial,\n",
       "div.sk-item {\n",
       "  /* draw centered vertical line to link estimators */\n",
       "  background-image: linear-gradient(var(--sklearn-color-text-on-default-background), var(--sklearn-color-text-on-default-background));\n",
       "  background-size: 2px 100%;\n",
       "  background-repeat: no-repeat;\n",
       "  background-position: center center;\n",
       "}\n",
       "\n",
       "/* Parallel-specific style estimator block */\n",
       "\n",
       "#sk-container-id-8 div.sk-parallel-item::after {\n",
       "  content: \"\";\n",
       "  width: 100%;\n",
       "  border-bottom: 2px solid var(--sklearn-color-text-on-default-background);\n",
       "  flex-grow: 1;\n",
       "}\n",
       "\n",
       "#sk-container-id-8 div.sk-parallel {\n",
       "  display: flex;\n",
       "  align-items: stretch;\n",
       "  justify-content: center;\n",
       "  background-color: var(--sklearn-color-background);\n",
       "  position: relative;\n",
       "}\n",
       "\n",
       "#sk-container-id-8 div.sk-parallel-item {\n",
       "  display: flex;\n",
       "  flex-direction: column;\n",
       "}\n",
       "\n",
       "#sk-container-id-8 div.sk-parallel-item:first-child::after {\n",
       "  align-self: flex-end;\n",
       "  width: 50%;\n",
       "}\n",
       "\n",
       "#sk-container-id-8 div.sk-parallel-item:last-child::after {\n",
       "  align-self: flex-start;\n",
       "  width: 50%;\n",
       "}\n",
       "\n",
       "#sk-container-id-8 div.sk-parallel-item:only-child::after {\n",
       "  width: 0;\n",
       "}\n",
       "\n",
       "/* Serial-specific style estimator block */\n",
       "\n",
       "#sk-container-id-8 div.sk-serial {\n",
       "  display: flex;\n",
       "  flex-direction: column;\n",
       "  align-items: center;\n",
       "  background-color: var(--sklearn-color-background);\n",
       "  padding-right: 1em;\n",
       "  padding-left: 1em;\n",
       "}\n",
       "\n",
       "\n",
       "/* Toggleable style: style used for estimator/Pipeline/ColumnTransformer box that is\n",
       "clickable and can be expanded/collapsed.\n",
       "- Pipeline and ColumnTransformer use this feature and define the default style\n",
       "- Estimators will overwrite some part of the style using the `sk-estimator` class\n",
       "*/\n",
       "\n",
       "/* Pipeline and ColumnTransformer style (default) */\n",
       "\n",
       "#sk-container-id-8 div.sk-toggleable {\n",
       "  /* Default theme specific background. It is overwritten whether we have a\n",
       "  specific estimator or a Pipeline/ColumnTransformer */\n",
       "  background-color: var(--sklearn-color-background);\n",
       "}\n",
       "\n",
       "/* Toggleable label */\n",
       "#sk-container-id-8 label.sk-toggleable__label {\n",
       "  cursor: pointer;\n",
       "  display: block;\n",
       "  width: 100%;\n",
       "  margin-bottom: 0;\n",
       "  padding: 0.5em;\n",
       "  box-sizing: border-box;\n",
       "  text-align: center;\n",
       "}\n",
       "\n",
       "#sk-container-id-8 label.sk-toggleable__label-arrow:before {\n",
       "  /* Arrow on the left of the label */\n",
       "  content: \"▸\";\n",
       "  float: left;\n",
       "  margin-right: 0.25em;\n",
       "  color: var(--sklearn-color-icon);\n",
       "}\n",
       "\n",
       "#sk-container-id-8 label.sk-toggleable__label-arrow:hover:before {\n",
       "  color: var(--sklearn-color-text);\n",
       "}\n",
       "\n",
       "/* Toggleable content - dropdown */\n",
       "\n",
       "#sk-container-id-8 div.sk-toggleable__content {\n",
       "  max-height: 0;\n",
       "  max-width: 0;\n",
       "  overflow: hidden;\n",
       "  text-align: left;\n",
       "  /* unfitted */\n",
       "  background-color: var(--sklearn-color-unfitted-level-0);\n",
       "}\n",
       "\n",
       "#sk-container-id-8 div.sk-toggleable__content.fitted {\n",
       "  /* fitted */\n",
       "  background-color: var(--sklearn-color-fitted-level-0);\n",
       "}\n",
       "\n",
       "#sk-container-id-8 div.sk-toggleable__content pre {\n",
       "  margin: 0.2em;\n",
       "  border-radius: 0.25em;\n",
       "  color: var(--sklearn-color-text);\n",
       "  /* unfitted */\n",
       "  background-color: var(--sklearn-color-unfitted-level-0);\n",
       "}\n",
       "\n",
       "#sk-container-id-8 div.sk-toggleable__content.fitted pre {\n",
       "  /* unfitted */\n",
       "  background-color: var(--sklearn-color-fitted-level-0);\n",
       "}\n",
       "\n",
       "#sk-container-id-8 input.sk-toggleable__control:checked~div.sk-toggleable__content {\n",
       "  /* Expand drop-down */\n",
       "  max-height: 200px;\n",
       "  max-width: 100%;\n",
       "  overflow: auto;\n",
       "}\n",
       "\n",
       "#sk-container-id-8 input.sk-toggleable__control:checked~label.sk-toggleable__label-arrow:before {\n",
       "  content: \"▾\";\n",
       "}\n",
       "\n",
       "/* Pipeline/ColumnTransformer-specific style */\n",
       "\n",
       "#sk-container-id-8 div.sk-label input.sk-toggleable__control:checked~label.sk-toggleable__label {\n",
       "  color: var(--sklearn-color-text);\n",
       "  background-color: var(--sklearn-color-unfitted-level-2);\n",
       "}\n",
       "\n",
       "#sk-container-id-8 div.sk-label.fitted input.sk-toggleable__control:checked~label.sk-toggleable__label {\n",
       "  background-color: var(--sklearn-color-fitted-level-2);\n",
       "}\n",
       "\n",
       "/* Estimator-specific style */\n",
       "\n",
       "/* Colorize estimator box */\n",
       "#sk-container-id-8 div.sk-estimator input.sk-toggleable__control:checked~label.sk-toggleable__label {\n",
       "  /* unfitted */\n",
       "  background-color: var(--sklearn-color-unfitted-level-2);\n",
       "}\n",
       "\n",
       "#sk-container-id-8 div.sk-estimator.fitted input.sk-toggleable__control:checked~label.sk-toggleable__label {\n",
       "  /* fitted */\n",
       "  background-color: var(--sklearn-color-fitted-level-2);\n",
       "}\n",
       "\n",
       "#sk-container-id-8 div.sk-label label.sk-toggleable__label,\n",
       "#sk-container-id-8 div.sk-label label {\n",
       "  /* The background is the default theme color */\n",
       "  color: var(--sklearn-color-text-on-default-background);\n",
       "}\n",
       "\n",
       "/* On hover, darken the color of the background */\n",
       "#sk-container-id-8 div.sk-label:hover label.sk-toggleable__label {\n",
       "  color: var(--sklearn-color-text);\n",
       "  background-color: var(--sklearn-color-unfitted-level-2);\n",
       "}\n",
       "\n",
       "/* Label box, darken color on hover, fitted */\n",
       "#sk-container-id-8 div.sk-label.fitted:hover label.sk-toggleable__label.fitted {\n",
       "  color: var(--sklearn-color-text);\n",
       "  background-color: var(--sklearn-color-fitted-level-2);\n",
       "}\n",
       "\n",
       "/* Estimator label */\n",
       "\n",
       "#sk-container-id-8 div.sk-label label {\n",
       "  font-family: monospace;\n",
       "  font-weight: bold;\n",
       "  display: inline-block;\n",
       "  line-height: 1.2em;\n",
       "}\n",
       "\n",
       "#sk-container-id-8 div.sk-label-container {\n",
       "  text-align: center;\n",
       "}\n",
       "\n",
       "/* Estimator-specific */\n",
       "#sk-container-id-8 div.sk-estimator {\n",
       "  font-family: monospace;\n",
       "  border: 1px dotted var(--sklearn-color-border-box);\n",
       "  border-radius: 0.25em;\n",
       "  box-sizing: border-box;\n",
       "  margin-bottom: 0.5em;\n",
       "  /* unfitted */\n",
       "  background-color: var(--sklearn-color-unfitted-level-0);\n",
       "}\n",
       "\n",
       "#sk-container-id-8 div.sk-estimator.fitted {\n",
       "  /* fitted */\n",
       "  background-color: var(--sklearn-color-fitted-level-0);\n",
       "}\n",
       "\n",
       "/* on hover */\n",
       "#sk-container-id-8 div.sk-estimator:hover {\n",
       "  /* unfitted */\n",
       "  background-color: var(--sklearn-color-unfitted-level-2);\n",
       "}\n",
       "\n",
       "#sk-container-id-8 div.sk-estimator.fitted:hover {\n",
       "  /* fitted */\n",
       "  background-color: var(--sklearn-color-fitted-level-2);\n",
       "}\n",
       "\n",
       "/* Specification for estimator info (e.g. \"i\" and \"?\") */\n",
       "\n",
       "/* Common style for \"i\" and \"?\" */\n",
       "\n",
       ".sk-estimator-doc-link,\n",
       "a:link.sk-estimator-doc-link,\n",
       "a:visited.sk-estimator-doc-link {\n",
       "  float: right;\n",
       "  font-size: smaller;\n",
       "  line-height: 1em;\n",
       "  font-family: monospace;\n",
       "  background-color: var(--sklearn-color-background);\n",
       "  border-radius: 1em;\n",
       "  height: 1em;\n",
       "  width: 1em;\n",
       "  text-decoration: none !important;\n",
       "  margin-left: 1ex;\n",
       "  /* unfitted */\n",
       "  border: var(--sklearn-color-unfitted-level-1) 1pt solid;\n",
       "  color: var(--sklearn-color-unfitted-level-1);\n",
       "}\n",
       "\n",
       ".sk-estimator-doc-link.fitted,\n",
       "a:link.sk-estimator-doc-link.fitted,\n",
       "a:visited.sk-estimator-doc-link.fitted {\n",
       "  /* fitted */\n",
       "  border: var(--sklearn-color-fitted-level-1) 1pt solid;\n",
       "  color: var(--sklearn-color-fitted-level-1);\n",
       "}\n",
       "\n",
       "/* On hover */\n",
       "div.sk-estimator:hover .sk-estimator-doc-link:hover,\n",
       ".sk-estimator-doc-link:hover,\n",
       "div.sk-label-container:hover .sk-estimator-doc-link:hover,\n",
       ".sk-estimator-doc-link:hover {\n",
       "  /* unfitted */\n",
       "  background-color: var(--sklearn-color-unfitted-level-3);\n",
       "  color: var(--sklearn-color-background);\n",
       "  text-decoration: none;\n",
       "}\n",
       "\n",
       "div.sk-estimator.fitted:hover .sk-estimator-doc-link.fitted:hover,\n",
       ".sk-estimator-doc-link.fitted:hover,\n",
       "div.sk-label-container:hover .sk-estimator-doc-link.fitted:hover,\n",
       ".sk-estimator-doc-link.fitted:hover {\n",
       "  /* fitted */\n",
       "  background-color: var(--sklearn-color-fitted-level-3);\n",
       "  color: var(--sklearn-color-background);\n",
       "  text-decoration: none;\n",
       "}\n",
       "\n",
       "/* Span, style for the box shown on hovering the info icon */\n",
       ".sk-estimator-doc-link span {\n",
       "  display: none;\n",
       "  z-index: 9999;\n",
       "  position: relative;\n",
       "  font-weight: normal;\n",
       "  right: .2ex;\n",
       "  padding: .5ex;\n",
       "  margin: .5ex;\n",
       "  width: min-content;\n",
       "  min-width: 20ex;\n",
       "  max-width: 50ex;\n",
       "  color: var(--sklearn-color-text);\n",
       "  box-shadow: 2pt 2pt 4pt #999;\n",
       "  /* unfitted */\n",
       "  background: var(--sklearn-color-unfitted-level-0);\n",
       "  border: .5pt solid var(--sklearn-color-unfitted-level-3);\n",
       "}\n",
       "\n",
       ".sk-estimator-doc-link.fitted span {\n",
       "  /* fitted */\n",
       "  background: var(--sklearn-color-fitted-level-0);\n",
       "  border: var(--sklearn-color-fitted-level-3);\n",
       "}\n",
       "\n",
       ".sk-estimator-doc-link:hover span {\n",
       "  display: block;\n",
       "}\n",
       "\n",
       "/* \"?\"-specific style due to the `<a>` HTML tag */\n",
       "\n",
       "#sk-container-id-8 a.estimator_doc_link {\n",
       "  float: right;\n",
       "  font-size: 1rem;\n",
       "  line-height: 1em;\n",
       "  font-family: monospace;\n",
       "  background-color: var(--sklearn-color-background);\n",
       "  border-radius: 1rem;\n",
       "  height: 1rem;\n",
       "  width: 1rem;\n",
       "  text-decoration: none;\n",
       "  /* unfitted */\n",
       "  color: var(--sklearn-color-unfitted-level-1);\n",
       "  border: var(--sklearn-color-unfitted-level-1) 1pt solid;\n",
       "}\n",
       "\n",
       "#sk-container-id-8 a.estimator_doc_link.fitted {\n",
       "  /* fitted */\n",
       "  border: var(--sklearn-color-fitted-level-1) 1pt solid;\n",
       "  color: var(--sklearn-color-fitted-level-1);\n",
       "}\n",
       "\n",
       "/* On hover */\n",
       "#sk-container-id-8 a.estimator_doc_link:hover {\n",
       "  /* unfitted */\n",
       "  background-color: var(--sklearn-color-unfitted-level-3);\n",
       "  color: var(--sklearn-color-background);\n",
       "  text-decoration: none;\n",
       "}\n",
       "\n",
       "#sk-container-id-8 a.estimator_doc_link.fitted:hover {\n",
       "  /* fitted */\n",
       "  background-color: var(--sklearn-color-fitted-level-3);\n",
       "}\n",
       "</style><div id=\"sk-container-id-8\" class=\"sk-top-container\"><div class=\"sk-text-repr-fallback\"><pre>SVC(probability=True, random_state=42)</pre><b>In a Jupyter environment, please rerun this cell to show the HTML representation or trust the notebook. <br />On GitHub, the HTML representation is unable to render, please try loading this page with nbviewer.org.</b></div><div class=\"sk-container\" hidden><div class=\"sk-item\"><div class=\"sk-estimator fitted sk-toggleable\"><input class=\"sk-toggleable__control sk-hidden--visually\" id=\"sk-estimator-id-8\" type=\"checkbox\" checked><label for=\"sk-estimator-id-8\" class=\"sk-toggleable__label fitted sk-toggleable__label-arrow fitted\">&nbsp;&nbsp;SVC<a class=\"sk-estimator-doc-link fitted\" rel=\"noreferrer\" target=\"_blank\" href=\"https://scikit-learn.org/1.5/modules/generated/sklearn.svm.SVC.html\">?<span>Documentation for SVC</span></a><span class=\"sk-estimator-doc-link fitted\">i<span>Fitted</span></span></label><div class=\"sk-toggleable__content fitted\"><pre>SVC(probability=True, random_state=42)</pre></div> </div></div></div></div>"
      ],
      "text/plain": [
       "SVC(probability=True, random_state=42)"
      ]
     },
     "execution_count": 241,
     "metadata": {},
     "output_type": "execute_result"
    }
   ],
   "source": [
    "logistic_model.fit(X_train, y_train)\n",
    "decision_tree_model.fit(X_train, y_train)\n",
    "random_forest_model.fit(X_train, y_train)\n",
    "Support_Vector_Machine.fit(X_train, y_train)"
   ]
  },
  {
   "cell_type": "code",
   "execution_count": 242,
   "id": "7eb519ce-6766-4b38-a530-02a8f353c0fc",
   "metadata": {},
   "outputs": [],
   "source": [
    "logistic_preds = logistic_model.predict(X_test)\n",
    "decision_tree_preds = decision_tree_model.predict(X_test)\n",
    "random_forest_preds = random_forest_model.predict(X_test)\n",
    "Support_Vector_preds= Support_Vector_Machine.predict(X_test)"
   ]
  },
  {
   "cell_type": "code",
   "execution_count": 243,
   "id": "6cfc4483-827c-4dcc-b749-58ce627042ca",
   "metadata": {},
   "outputs": [
    {
     "name": "stdout",
     "output_type": "stream",
     "text": [
      "Evaluation for Logistic Regression:\n",
      "ROC-AUC Score: 0.6200716845878137\n",
      "\n",
      "Classification Report:\n",
      "               precision    recall  f1-score   support\n",
      "\n",
      "           0       0.79      0.97      0.87        31\n",
      "           1       0.50      0.11      0.18         9\n",
      "\n",
      "    accuracy                           0.78        40\n",
      "   macro avg       0.64      0.54      0.53        40\n",
      "weighted avg       0.72      0.78      0.71        40\n",
      "\n",
      "-------------------------------------------------------\n",
      "Evaluation for Decision Tree:\n",
      "ROC-AUC Score: 0.5053763440860215\n",
      "\n",
      "Classification Report:\n",
      "               precision    recall  f1-score   support\n",
      "\n",
      "           0       0.78      0.68      0.72        31\n",
      "           1       0.23      0.33      0.27         9\n",
      "\n",
      "    accuracy                           0.60        40\n",
      "   macro avg       0.50      0.51      0.50        40\n",
      "weighted avg       0.65      0.60      0.62        40\n",
      "\n",
      "-------------------------------------------------------\n",
      "Evaluation for Random Forest:\n",
      "ROC-AUC Score: 0.39605734767025086\n",
      "\n",
      "Classification Report:\n",
      "               precision    recall  f1-score   support\n",
      "\n",
      "           0       0.77      0.97      0.86        31\n",
      "           1       0.00      0.00      0.00         9\n",
      "\n",
      "    accuracy                           0.75        40\n",
      "   macro avg       0.38      0.48      0.43        40\n",
      "weighted avg       0.60      0.75      0.66        40\n",
      "\n",
      "-------------------------------------------------------\n",
      "Evaluation for Support Vector Machine:\n",
      "ROC-AUC Score: 0.6702508960573477\n",
      "\n",
      "Classification Report:\n",
      "               precision    recall  f1-score   support\n",
      "\n",
      "           0       0.78      1.00      0.87        31\n",
      "           1       1.00      0.00      0.00         9\n",
      "\n",
      "    accuracy                           0.78        40\n",
      "   macro avg       0.89      0.50      0.44        40\n",
      "weighted avg       0.83      0.78      0.68        40\n",
      "\n",
      "-------------------------------------------------------\n"
     ]
    }
   ],
   "source": [
    "from sklearn.metrics import roc_auc_score, classification_report, confusion_matrix\n",
    "\n",
    "def evaluate_model(y_true, y_pred, model, model_name):\n",
    "    print(f\"Evaluation for {model_name}:\")\n",
    "    \n",
    "    # ROC-AUC Score\n",
    "    \n",
    "    y_probs = model.predict_proba(X_test)[:, 1]\n",
    "    print(\"ROC-AUC Score:\", roc_auc_score(y_true, y_probs))\n",
    "    \n",
    "    \n",
    "    # Classification report\n",
    "    print(\"\\nClassification Report:\\n\", classification_report(y_true, y_pred,zero_division=1))\n",
    "    print(\"-\" * 55)\n",
    "\n",
    "# Logistic Regression\n",
    "evaluate_model(y_test, logistic_preds, logistic_model, \"Logistic Regression\")\n",
    "\n",
    "# Decision Tree\n",
    "evaluate_model(y_test, decision_tree_preds, decision_tree_model, \"Decision Tree\")\n",
    "\n",
    "# Random Forest\n",
    "evaluate_model(y_test, random_forest_preds, random_forest_model, \"Random Forest\")\n",
    "\n",
    "# Support Vector Machine\n",
    "evaluate_model(y_test, Support_Vector_preds, Support_Vector_Machine, \"Support Vector Machine\")"
   ]
  },
  {
   "cell_type": "markdown",
   "id": "5175bd65-fa62-4120-a1f0-859686ec1b38",
   "metadata": {},
   "source": [
    "#### The Decision Tree performs best overall, considering its ability to predict the minority class (1) with a recall of 0.33, even though its overall metrics (ROC-AUC and accuracy) are not the highest. The other models (especially SVM and Random Forest) perform poorly in predicting the minority class."
   ]
  },
  {
   "cell_type": "code",
   "execution_count": 268,
   "id": "3a444e59-d155-4aab-85a1-ddd33c9c4606",
   "metadata": {},
   "outputs": [
    {
     "data": {
      "image/png": "[encoded data removed]",
      "text/plain": [
       "<Figure size 400x200 with 2 Axes>"
      ]
     },
     "metadata": {},
     "output_type": "display_data"
    }
   ],
   "source": [
    "# Confusion Metrix For best model\n",
    "best_model = DecisionTreeClassifier(random_state=42)\n",
    "best_model.fit(X_train, y_train)\n",
    "\n",
    "# Make predictions on the test set\n",
    "y_pred = best_model.predict(X_test)\n",
    "\n",
    "# Compute the confusion matrix\n",
    "cm = confusion_matrix(y_test, y_pred)\n",
    "\n",
    "# Visualize the confusion matrix as a heatmap\n",
    "plt.figure(figsize=(4, 2))\n",
    "sns.heatmap(cm, annot=True, fmt='d', cmap='Blues', xticklabels=['Not Churn', 'Churn'], yticklabels=['Not Churn', 'Churn'])\n",
    "plt.xlabel('Predicted Labels')\n",
    "plt.ylabel('True Labels')\n",
    "plt.title('Confusion Matrix')\n",
    "plt.show()"
   ]
  },
  {
   "cell_type": "markdown",
   "id": "9d3cf987-ddff-49de-a9fb-67b72fff8fe7",
   "metadata": {},
   "source": [
    "# Model Interpretation"
   ]
  },
  {
   "cell_type": "code",
   "execution_count": 245,
   "id": "25c5898d-ec15-4a7d-a28c-4b78dead5724",
   "metadata": {},
   "outputs": [],
   "source": [
    "import shap"
   ]
  },
  {
   "cell_type": "code",
   "execution_count": 246,
   "id": "c0d78d0b-0c46-4a40-8bab-04de66ff9e5b",
   "metadata": {},
   "outputs": [
    {
     "data": {
      "application/vnd.jupyter.widget-view+json": {
       "model_id": "94c000f9ba0443d0baaa0faf5a2ba88b",
       "version_major": 2,
       "version_minor": 0
      },
      "text/plain": [
       "  0%|          | 0/40 [00:00<?, ?it/s]"
      ]
     },
     "metadata": {},
     "output_type": "display_data"
    },
    {
     "data": {
      "image/png": "[encoded data removed]",
      "text/plain": [
       "<Figure size 800x630 with 1 Axes>"
      ]
     },
     "metadata": {},
     "output_type": "display_data"
    }
   ],
   "source": [
    "# Ensure the model outputs probabilities\n",
    "def predict_proba_wrapper(X):\n",
    "    return logistic_model.predict_proba(pd.DataFrame(X, columns=X_train.columns))[:, 1]\n",
    "\n",
    "# Reduce the background sample size for efficiency\n",
    "background = shap.sample(X_train, 50)  # Sample 50 rows from training data\n",
    "\n",
    "# Create SHAP Kernel Explainer\n",
    "explainer = shap.KernelExplainer(predict_proba_wrapper, background)\n",
    "\n",
    "# Calculate SHAP values\n",
    "shap_values = explainer.shap_values(X_test, nsamples=100)  # Adjust nsamples if computation is slow\n",
    "\n",
    "# Visualize SHAP summary plot\n",
    "shap.summary_plot(shap_values, X_test, plot_type=\"bar\")\n"
   ]
  },
  {
   "cell_type": "markdown",
   "id": "e5f64444-4e63-460c-90ed-f6625413b981",
   "metadata": {},
   "source": [
    "#### The factor that contributed the most to churn is Tenure. This suggests that how long a customer has been with the service (Tenure) has a strong influence on whether they churn."
   ]
  },
  {
   "cell_type": "markdown",
   "id": "75aa0dbf-a0ce-4fdc-a92a-dc0e2c06cefd",
   "metadata": {},
   "source": [
    "# Recommendation Engine"
   ]
  },
  {
   "cell_type": "markdown",
   "id": "02c6fc82-9c1e-4718-97b7-9d7614beda61",
   "metadata": {},
   "source": [
    "#### To build the recommendation engine, we will focus on the ServiceUsage1, ServiceUsage2, and ServiceUsage3 columns, treating them as products/services."
   ]
  },
  {
   "cell_type": "code",
   "execution_count": 247,
   "id": "48b11815-cfd8-45ad-8425-30fc5949d4f1",
   "metadata": {},
   "outputs": [],
   "source": [
    "from sklearn.metrics.pairwise import cosine_similarity"
   ]
  },
  {
   "cell_type": "code",
   "execution_count": 251,
   "id": "a7e100f1-70fe-43b8-8fad-4b29c84bd960",
   "metadata": {},
   "outputs": [
    {
     "name": "stdout",
     "output_type": "stream",
     "text": [
      "            ServiceUsage1  ServiceUsage2  ServiceUsage3\n",
      "CustomerID                                             \n",
      "CUST0001         0.303786      -0.325171      -0.761761\n",
      "CUST0002        -0.289819       1.129268       0.499204\n",
      "CUST0003         0.513293      -1.710351       1.000136\n",
      "CUST0004         0.478375       1.060009       1.069230\n",
      "CUST0005         0.408539      -1.641092      -0.917223\n"
     ]
    }
   ],
   "source": [
    "# Transforming the data into a user-item-matrix using the CustomerID and service usage columns.\n",
    "usage_columns = ['ServiceUsage1', 'ServiceUsage2', 'ServiceUsage3']\n",
    "user_item_matrix = df[['CustomerID'] + usage_columns].set_index('CustomerID')\n",
    "print(user_item_matrix.head())"
   ]
  },
  {
   "cell_type": "code",
   "execution_count": 254,
   "id": "faa6ab00-fb33-415d-8140-d5e6782b9574",
   "metadata": {},
   "outputs": [
    {
     "name": "stdout",
     "output_type": "stream",
     "text": [
      "CustomerID  CUST0001  CUST0002  CUST0003  CUST0004  CUST0005  CUST0006  \\\n",
      "CustomerID                                                               \n",
      "CUST0001    1.000000 -0.746759 -0.027568 -0.727454  0.799185  0.977846   \n",
      "CUST0002   -0.746759  1.000000 -0.609050  0.794667 -0.995714 -0.868298   \n",
      "CUST0003   -0.027568 -0.609050  1.000000 -0.154039  0.533106  0.178164   \n",
      "CUST0004   -0.727454  0.794667 -0.154039  1.000000 -0.830726 -0.774523   \n",
      "CUST0005    0.799185 -0.995714  0.533106 -0.830726  1.000000  0.904948   \n",
      "\n",
      "CustomerID  CUST0007  CUST0008  CUST0009  CUST0010  ...  CUST0191  CUST0192  \\\n",
      "CustomerID                                          ...                       \n",
      "CUST0001    0.398314  0.916239  0.359619  0.806348  ... -0.809586 -0.220250   \n",
      "CUST0002   -0.889743 -0.803869 -0.041859 -0.492231  ...  0.669880  0.743219   \n",
      "CUST0003    0.761572  0.259958 -0.611382  0.003588  ... -0.256403 -0.676228   \n",
      "CUST0004   -0.752227 -0.529560 -0.630146 -0.198923  ...  0.294670  0.741587   \n",
      "CUST0005    0.861141  0.826019  0.117270  0.522873  ... -0.683058 -0.715342   \n",
      "\n",
      "CustomerID  CUST0193  CUST0194  CUST0195  CUST0196  CUST0197  CUST0198  \\\n",
      "CustomerID                                                               \n",
      "CUST0001    0.423689  0.529721 -0.328435 -0.379059 -0.114188 -0.697632   \n",
      "CUST0002    0.256151 -0.954222  0.076017  0.575947  0.634058  0.200452   \n",
      "CUST0003   -0.736174  0.742762  0.541910 -0.145204 -0.955578  0.645612   \n",
      "CUST0004    0.178605 -0.770335  0.663580  0.908266  0.078174  0.628902   \n",
      "CUST0005   -0.188848  0.931789 -0.145771 -0.599198 -0.564310 -0.289432   \n",
      "\n",
      "CustomerID  CUST0199  CUST0200  \n",
      "CustomerID                      \n",
      "CUST0001    0.324243 -0.828214  \n",
      "CUST0002   -0.704448  0.803982  \n",
      "CUST0003    0.855061 -0.397230  \n",
      "CUST0004   -0.131247  0.429594  \n",
      "CUST0005    0.650716 -0.809993  \n",
      "\n",
      "[5 rows x 200 columns]\n"
     ]
    }
   ],
   "source": [
    "customer_similarity = cosine_similarity(user_item_matrix)\n",
    "customer_similarity_df = pd.DataFrame(customer_similarity, \n",
    "                                      index=user_item_matrix.index, \n",
    "                                      columns=user_item_matrix.index)\n",
    "\n",
    "print(customer_similarity_df.head())"
   ]
  },
  {
   "cell_type": "code",
   "execution_count": 267,
   "id": "bbdd5360-2384-4aa6-9829-07c63dcb5fa4",
   "metadata": {},
   "outputs": [
    {
     "data": {
      "text/plain": [
       "['ServiceUsage1']"
      ]
     },
     "execution_count": 267,
     "metadata": {},
     "output_type": "execute_result"
    }
   ],
   "source": [
    "def recommend_services(customer_id, user_item_matrix, customer_similarity_df, top_n=3):\n",
    "    \n",
    "    if customer_id not in customer_similarity_df.index:\n",
    "        return f\"Customer ID {customer_id} not found in data.\"\n",
    "\n",
    "    # Get similarity scores for the target customer\n",
    "    similar_customers = customer_similarity_df[customer_id].sort_values(ascending=False)[1:top_n+1]\n",
    "\n",
    "    # Get services used by the similar customers\n",
    "    similar_customers_services = user_item_matrix.loc[similar_customers.index]\n",
    "\n",
    "    # Aggregate usage across similar customers and exclude already used services\n",
    "    target_customer_services = user_item_matrix.loc[customer_id]\n",
    "    recommended_services = similar_customers_services.sum(axis=0) - target_customer_services\n",
    "\n",
    "    # Sort recommendations by usage frequency and return as a list\n",
    "    recommendations = recommended_services[recommended_services > 0].sort_values(ascending=False).index.tolist()\n",
    "    return recommendations\n",
    "    \n",
    "# Add a column for recommended services for all customers\n",
    "df['RecommendedServices'] = df['CustomerID'].apply(\n",
    "    lambda customer_id: recommend_services(customer_id, user_item_matrix, customer_similarity_df)\n",
    ")\n",
    "\n",
    "# Display the updated dataset with recommended services\n",
    "#df[['CustomerID', 'RecommendedServices']].head()\n",
    "# Example: Recommend services for customer 'CUST0001'\n",
    "recommend_services(\"CUST0001\", user_item_matrix, customer_similarity_df)\n"
   ]
  }
 ],
 "metadata": {
  "kernelspec": {
   "display_name": "Python 3 (ipykernel)",
   "language": "python",
   "name": "python3"
  },
  "language_info": {
   "codemirror_mode": {
    "name": "ipython",
    "version": 3
   },
   "file_extension": ".py",
   "mimetype": "text/x-python",
   "name": "python",
   "nbconvert_exporter": "python",
   "pygments_lexer": "ipython3",
   "version": "3.12.7"
  }
 },
 "nbformat": 4,
 "nbformat_minor": 5
}
